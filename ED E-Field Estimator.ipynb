{
 "cells": [
  {
   "cell_type": "markdown",
   "id": "221b6d10-0012-4511-b016-5d9d3d418656",
   "metadata": {
    "tags": []
   },
   "source": [
    "# Electrodynamics I (Fall 2021) Computational Assignment\n",
    "# E-Field From Randomly-Distributed Charges"
   ]
  },
  {
   "cell_type": "markdown",
   "id": "7ac9d385-5704-427b-a9ff-90907831ac3b",
   "metadata": {},
   "source": [
    "## Imports"
   ]
  },
  {
   "cell_type": "code",
   "execution_count": 93,
   "id": "8f4799da-95ed-4b00-b771-a0355711444d",
   "metadata": {},
   "outputs": [],
   "source": [
    "#Non-custom imports.\n",
    "#\n",
    "#Imports for unused modules are commented out to minimize errors and setup.\n",
    "\n",
    "import matplotlib as mpl\n",
    "import matplotlib.pyplot as plt\n",
    "import numpy as np\n",
    "import math\n",
    "#from matplotlib.animation import FuncAnimation\n",
    "import time\n",
    "#import matplotlib.animation as animation\n",
    "#import seaborn as sns\n",
    "#import pandas as pd\n",
    "#from graphics import *\n",
    "#import sys\n",
    "import random\n",
    "import re\n",
    "from tqdm import tqdm\n",
    "import pandas as pd"
   ]
  },
  {
   "cell_type": "markdown",
   "id": "c84562b4-4600-4c7c-9f39-124a60aeb2d9",
   "metadata": {},
   "source": [
    "## Function Definitions"
   ]
  },
  {
   "cell_type": "markdown",
   "id": "b842e3b1-7523-4226-a988-24708662346c",
   "metadata": {
    "tags": []
   },
   "source": [
    "### placePoints"
   ]
  },
  {
   "cell_type": "markdown",
   "id": "2580a781-87fe-4429-ad81-999e1da7b7df",
   "metadata": {},
   "source": [
    "This function is intended to return a list of a given number of randomly-placed points selected from a given N-dimensional distribution."
   ]
  },
  {
   "cell_type": "code",
   "execution_count": 31,
   "id": "23b7a7cc-19d8-48d3-a90d-ff892c349bb3",
   "metadata": {},
   "outputs": [],
   "source": [
    "def placePoints(n, D):\n",
    "    \n",
    "    \"\"\"\n",
    "    Takes in a N-dimensional distribution of possible points and returns a list of specified length of N-dimensional random selections of points.\n",
    "    \n",
    "    INPUTS\n",
    "    n:   The number of points. (Unitless)\n",
    "    D:   A 2D list or array for the distribution of possible points. (Arbitrary)\n",
    "    \n",
    "    OUTPUTS\n",
    "    points: A list of length n and the same dimensionality as D. Each element of the list represents a point with the sublist's first element being\n",
    "            the position of that point of the first component from D, the sublist's second element being the position of that point of the second\n",
    "            component from D, and so on. (Arbitrary)\n",
    "    \n",
    "    \"\"\"\n",
    "    \n",
    "    points = [] #Empty list to be used for the positions of each point\n",
    "    \n",
    "    for i in range(n): #Loop for the number of points desired\n",
    "        points.append([]) #Add an empty list to the list of points for each desired random point\n",
    "        a = random.randrange(len(D[0])) #Generate a random index\n",
    "        for j in range(len(D)): #Loop for each dimension of the given distribution\n",
    "            points[i].append( D[j][a] ) #Add the element at the given random index from the axis of the current iteration to the current point\n",
    "            \n",
    "    \n",
    "    return points #Returns the list of points"
   ]
  },
  {
   "cell_type": "markdown",
   "id": "fc10ac68-5b32-46e6-8310-6da268d14cd2",
   "metadata": {},
   "source": [
    "### calcE"
   ]
  },
  {
   "cell_type": "markdown",
   "id": "5a65493a-87aa-4283-92d1-c28592017333",
   "metadata": {},
   "source": [
    "This functoon takes in a given point in N-dimensional space and a given charge and calculates the electric field at the given point due to the given charge distributed about a given number of randomly-selected points from a given distribution with the same dimensionality as the given point."
   ]
  },
  {
   "cell_type": "code",
   "execution_count": 32,
   "id": "f9fa87fb-4c6c-48d5-863c-01610f4de32f",
   "metadata": {},
   "outputs": [],
   "source": [
    "def calcE(P, Q, n, D, k=8.988E9):\n",
    "    \n",
    "    \"\"\"\n",
    "    Calculates the E-Field at P due to total charge Q distributed about n points randomly selected from D.\n",
    "    \n",
    "    INPUTS\n",
    "    P: A list of an arbitrary number of elements with each element being a position along an axis. (ND vector, meters 'm')\n",
    "    Q: The total charge to be distributed about the n random points from D. (Coulombs 'C')\n",
    "    n: The number of random points to be selected from D. (Dimensionless)\n",
    "    D: An list or Numpy array of the same length as P containing sublists or subarrays with associated positions along an axis, with each element\n",
    "       of D representing an axis in ND space and each element of those axes representing a position along the given axis. A possible point would\n",
    "       be, for example, a vector of the values at the i-th index of each axis. (1D list or array of ND vectors, meters 'm')\n",
    "    k: Coulomb's constant. (Kilogram meter-cubed per second-squared Coulomb-squared 'kg * m^3 * s^-2 * C^-2')\n",
    "    \n",
    "    OUTPUTS\n",
    "    E: A Numpy array containing each component of the calculated electric field. (ND vector, Newtons per Coulomb 'N/C')\n",
    "    \"\"\"\n",
    "    \n",
    "    if (len(P) != len(D)):\n",
    "        print(\"Error: P and D have different dimensionality.\")\n",
    "    \n",
    "    q = Q/n #Calculate the value of the charge on each point charge\n",
    "    \n",
    "    points = placePoints(n, D) #Generate a set of random points\n",
    "    \n",
    "    P = np.array(P) #Convert the position vector to a Numpy array\n",
    "    \n",
    "    E = np.zeros(len(P)) #Define a Numpy array representing a vector of the same dimensionality as P and fill it with zeros\n",
    "\n",
    "    for i in range(n): #Loop for the number of random points\n",
    "        r = P - np.array(points[i]) #Calculate the separation vector between the random point of the current iteration and the given point\n",
    "        \n",
    "        rmag = np.linalg.norm(r) #Calculate the magnitude of the separation\n",
    "        \n",
    "        if (rmag == 0):\n",
    "            print(\"rmag = 0, returning None to avoid division by 0\")\n",
    "            return None\n",
    "        \n",
    "        e = k*q/(rmag**2) #Calculate the electric field at the given point due to the random point of the current iteration\n",
    "        \n",
    "        E += (e/rmag)*r #Add the calculated electric field vector to the total electric field ((1/rmag)*r = r̂)\n",
    "    \n",
    "    return E #Return the total electric field vector"
   ]
  },
  {
   "cell_type": "markdown",
   "id": "b33a83e2-09e4-4ee2-a0fc-80ab88736c6f",
   "metadata": {},
   "source": [
    "### tester"
   ]
  },
  {
   "cell_type": "markdown",
   "id": "04db5ffb-2852-4b35-82b8-33989cf59f1d",
   "metadata": {},
   "source": [
    "This function is intended to run calcE repeatedly and return the list of calculations as well as averages of the calculations."
   ]
  },
  {
   "cell_type": "code",
   "execution_count": 71,
   "id": "c13fd8d5-7735-4b2c-96af-e84df7d17646",
   "metadata": {},
   "outputs": [],
   "source": [
    "def tester(N, P, Q, n, D, k=8.988E9):\n",
    "    \n",
    "    \"\"\"\n",
    "    This function computes lists of electric field data and averages generated by electric field calculations repeated N times for the same inputs.\n",
    "    \n",
    "    INPUTS\n",
    "    N: The number of calculations to be done. (Dimensionless)\n",
    "    P: A list of an arbitrary number of elements with each element being a position along an axis. (ND vector, meters 'm')\n",
    "    Q: The total charge to be distributed about the n random points from D. (Coulombs 'C')\n",
    "    n: The number of random points to be selected from D. (Dimensionless)\n",
    "    D: An list or Numpy array of the same length as P containing sublists or subarrays with associated positions along an axis, with each element\n",
    "       of D representing an axis in ND space and each element of those axes representing a position along the given axis. A possible point would\n",
    "       be, for example, a vector of the values at the i-th index of each axis. (1D list or array of ND vectors, meters 'm')\n",
    "    k: Coulomb's constant. (Kilogram meter-cubed per second-squared Coulomb-squared 'kg * m^3 * s^-2 * C^-2')\n",
    "    \n",
    "    OUTPUTS\n",
    "    aveE:  The average electric field vector. (ND vector, Newtons per Coulomb 'N/C')\n",
    "    aver̂:  The average electric field unit vector. (ND vector, meters 'm')\n",
    "    Emags: A list of calculated electric field magnitudes. (1D list, Newtons per Coulomb 'N/C')\n",
    "    x̂θs:   A list of calculated electric field vector angles with the X-axis. (1D list, radians 'rad')\n",
    "    r̂θs:   A list of calculated electric field vector angles with the average electric field vector. (1D list, radians 'rad')\n",
    "    \"\"\"\n",
    "    \n",
    "    aveE = np.zeros(len(P)) #\n",
    "    aver̂ = np.zeros(len(P)) #\n",
    "    Emags = []              #Starting variable definitions\n",
    "    x̂θs = []                #\n",
    "    r̂θs = []                #\n",
    "    \n",
    "    x̂ = np.zeros(len(P)) #Initially define x̂ as a zero vector of the same dimensionality as P\n",
    "    x̂[0] = 1 #Set the first value of the previously-calculated zero vector to 1, causing this vector to represent the 0th standard\n",
    "             #basis vector 'e_1' (or 'x̂' for typical uses)\n",
    "    \n",
    "    for i in range(N): #Loop for the number of calculations desired\n",
    "        E = calcE(P, Q, n, D, k) #Compute the electric field\n",
    "        \n",
    "        r̂ = (1/np.linalg.norm(E))*E #Calculate the unit vector in the direction of the electric field\n",
    "        \n",
    "        aveE += E #Add the calculated electric field vector to the summation to be recalculated later\n",
    "        aver̂ += r̂ #Add the calculated electric field unit vector to the summation to be recalculated later\n",
    "        Emags.append(np.linalg.norm(E)) #Add the calculated electric field magnitude to the list\n",
    "        x̂θs.append(np.arccos(np.dot(r̂, x̂))) #Add the calculated electric field unit vector's angle to the X-axis to the list\n",
    "        r̂θs.append(r̂) #Add the calculated electric field unit vector to the list to be recalculated later\n",
    "    \n",
    "    aveE = (1/N)*aveE #Take the average of the electric field vector\n",
    "    if (np.linalg.norm(aver̂) == 0):\n",
    "        print(\"Magnitude of aver̂ = 0, setting to zero vector instead\")\n",
    "        aver̂ = 0*aver̂\n",
    "    else:\n",
    "        aver̂ = (1/np.linalg.norm(aver̂))*aver̂ #Take the average of the electric field unit vectors\n",
    "    Emags = np.array(Emags) #Convert the list of electric field magnitudes to a Numpy array\n",
    "    x̂θs = np.array(x̂θs) #Convert the list of the calculated electric field unit vectors' angles to the X-axis to a Numpy array\n",
    "    \n",
    "    for i in range(len(r̂θs)): #Loop for each value of r̂θs\n",
    "        r̂θs[i] = np.arccos(round(np.dot(r̂θs[i], aver̂), 15)) #Set each element to the angle that the corresponding r̂ makes with the mean r̂\n",
    "    \n",
    "    r̂θs = np.array(r̂θs) #Convert the list of calculated r̂ angles to the mean r̂ to a Numpy array\n",
    "    \n",
    "    return aveE, aver̂, Emags, x̂θs, r̂θs #Return data"
   ]
  },
  {
   "cell_type": "markdown",
   "id": "9d556ee4-c6f2-42a1-bb22-dcb0d73b3fcc",
   "metadata": {},
   "source": [
    "### testandsummarize"
   ]
  },
  {
   "cell_type": "markdown",
   "id": "1f6cbed7-d5cf-44bc-a572-ffcb1a966fc7",
   "metadata": {},
   "source": [
    "This function is intended to calculate and then print summaries of electric field data."
   ]
  },
  {
   "cell_type": "code",
   "execution_count": 63,
   "id": "4ef31a44-0f32-42b1-8995-710f047ba81c",
   "metadata": {},
   "outputs": [],
   "source": [
    "def testandsummarize(N, P, Q, n, D, k=8.988E9):\n",
    "    \n",
    "    \"\"\"\n",
    "    Calculates data with the function 'tester' and prints summaries of it.\n",
    "    \n",
    "    INPUTS\n",
    "    N: The number of calculations to be done. (Dimensionless)\n",
    "    P: A list of an arbitrary number of elements with each element being a position along an axis. (ND vector, meters 'm')\n",
    "    Q: The total charge to be distributed about the n random points from D. (Coulombs 'C')\n",
    "    n: The number of random points to be selected from D. (Dimensionless)\n",
    "    D: An list or Numpy array of the same length as P containing sublists or subarrays with associated positions along an axis, with each element\n",
    "       of D representing an axis in ND space and each element of those axes representing a position along the given axis. A possible point would\n",
    "       be, for example, a vector of the values at the i-th index of each axis. (1D list or array of ND vectors, meters 'm')\n",
    "    k: Coulomb's constant. (Kilogram meter-cubed per second-squared Coulomb-squared 'kg * m^3 * s^-2 * C^-2')\n",
    "    \n",
    "    OUTPUTS\n",
    "    None, prints summarized data.\n",
    "    \"\"\"\n",
    "    \n",
    "    aveE, aver̂, Emags, x̂θs, r̂θs = tester(N, P, Q, n, D, k) #Calculate electric field data\n",
    "    \n",
    "    x̂ = np.zeros(len(P)) #Initially define x̂ as a zero vector of the same dimensionality as P\n",
    "    x̂[0] = 1 #Set the first value of the previously-calculated zero vector to 1, causing this vector to represent the 0th standard\n",
    "             #basis vector 'e_1' (or 'x̂' for typical uses)\n",
    "\n",
    "    print(\"E:\\t\\t\\t\\t\\t\" + str(aveE) + \" N/C\") #Print the electric field magnitude\n",
    "    print(\"E standard deviation:\\t\\t\\t\" + str(np.std(np.array(Emags))) + \" N/C\") #Print the standard deviation of the electric field magnitude calculations\n",
    "    print(\"E percent standard deviation:\\t\\t\" + str(100*np.std(np.array(Emags))/np.linalg.norm(aveE)) + \" %\") #Print the ratio of the electric field standard deviation to electric field magnitude as a percentage\n",
    "    print() #New line\n",
    "    print(\"r̂:\\t\\t\\t\\t\\t\" + str(aver̂)) #Print the calculated electric field unit vector\n",
    "    print() #New line\n",
    "    print(\"Mean angle from x̂:\\t\\t\\t\" + str(np.mean(x̂θs)) + \" rad\") #Print the mean angle of each calculated electric field unit vector to\n",
    "                                                                            #the X-axis\n",
    "    print(\"Angle from x̂ standard deviation:\\t\" + str(np.std(x̂θs)) + \" rad\") #Print the standard deviation of the electric field unit vector angle\n",
    "                                                                                     #measurements to the X-axis\n",
    "    print(\"Mean angle from r̂:\\t\\t\\t\" + str(np.mean(r̂θs)) + \" rad\") #Print the average angle of the calculated unit vectors to the average unit vector\n",
    "    print(\"Angle from r̂ standard deviation:\\t\" + str(np.std(r̂θs)) + \" rad\") #Print the standard deviation of the calculated electric field unit\n",
    "                                                                                     #vector angle measurements to the expected electric field unit vector"
   ]
  },
  {
   "cell_type": "markdown",
   "id": "ea4e355f-1281-4bfd-a04d-a622decbdb92",
   "metadata": {},
   "source": [
    "### varier"
   ]
  },
  {
   "cell_type": "markdown",
   "id": "4e368068-7081-4734-b457-b6455e9cb0fc",
   "metadata": {},
   "source": [
    "This function is intended to calculate electric field data for varied inputs of a given parameter."
   ]
  },
  {
   "cell_type": "code",
   "execution_count": 25,
   "id": "e0287600-c9f4-44bc-bdb8-a214be208171",
   "metadata": {},
   "outputs": [],
   "source": [
    "def varier(N, Varied_Variable, testrange, P, Q, n, D, k=8.988E9):\n",
    "    \n",
    "    \"\"\"\n",
    "    Calculates the electric field data repeatedly with a single input varied over each calculation and lists the data to see how it behaves with\n",
    "    the specified input changing.\n",
    "    \n",
    "    INPUTS\n",
    "    N:               The number of different inputs to be tested. (Unitless)\n",
    "    Varied_Variable: The input that will be adjusted between calculations. (String)\n",
    "    testrange:       A 1D, two-element list with the first element being the first input in place of the varied input and the second element being\n",
    "                         the last (exclusive). (2 element list, units depend on which input it is being applied to)\n",
    "    P:               A list of an arbitrary number of elements with each element being a position along an axis. (ND vector, meters 'm')\n",
    "    Q:               The total charge to be distributed about the n random points from D. (Coulombs 'C')\n",
    "    n:               The number of random points to be selected from D. (Dimensionless)\n",
    "    D:               An list or Numpy array of the same length as P containing sublists or subarrays with associated positions along an axis,\n",
    "                         with each element of D representing an axis in ND space and each element of those axes representing a position along the\n",
    "                         given axis. A possible point would be, for example, a vector of the values at the i-th index of each axis.\n",
    "                         (1D list or array of ND vectors, meters 'm')\n",
    "    k:               Coulomb's constant. (Kilogram meter-cubed per second-squared Coulomb-squared 'kg * m^3 * s^-2 * C^-2')\n",
    "    \n",
    "    OUTPUTS\n",
    "    Es:        A Numpy array of each calculated electric field vector. (1D array of ND vectors, Newtons per Coulomb 'N/C')\n",
    "    r̂s:        A Numpy array of each calculated electric field unit vector. (1D Numpy array of ND vectors, unitless)\n",
    "    testrange: A Numpy array of each input value tested in place of the varied input. (1D Numpy array, units depend on which input it is applied to)\n",
    "    \"\"\"\n",
    "    \n",
    "    testrange = np.arange(testrange[0], testrange[1], (testrange[1]-testrange[0])/N) #Set testrange to a list of values that will be used in place of the\n",
    "                                                                                     #varied input\n",
    "    \n",
    "    Es = [] #\n",
    "    r̂s = [] #Define starting variables (lists to add data to)\n",
    "    \n",
    "    if (Varied_Variable == \"Q\"): #If the input to be varied is Q\n",
    "        for i in range(len(testrange)): #Loop for each value in testrange\n",
    "            E = calcE(P, testrange[i], n, D, k) #Calculate electric field for the given inputs of this iteration\n",
    "            Es.append(E) #Add the calculated electric field vector to the list\n",
    "            r̂s.append((1/np.linalg.norm(E))*E) #Add the calculated electric field unit vector to the list\n",
    "    elif (Varied_Variable == \"r\"): #If the input to be varied is the distance of the point to the origin\n",
    "        variedR = np.zeros(len(P)) #Define a zero vector of the same dimensionality as P\n",
    "        for i in range(len(testrange)): #Loop for each value in testrange\n",
    "            variedR[0] = testrange[i] #Set the value along the first axis of the previously calculated zero vector to the given input of this iteration\n",
    "            E = calcE(variedR, Q, n, D, k) #Calculate the electric field for the given inputs of this iteration\n",
    "            Es.append(E) #Add the calculated electric field vector to the list\n",
    "            r̂s.append((1/np.linalg.norm(E))*E) #Add the calculated electric field unit vector to the list\n",
    "    elif (Varied_Variable == \"n\"): #If the input to be varied is n\n",
    "        testrange = np.unique(testrange.astype(int)) #Cast all of the elements of testrange to integers and remove non-unique values\n",
    "        testrange = testrange[testrange != 0] #Delete all occurrences of the value 0 from the testrange to avoid divisions by zero\n",
    "        for i in range(len(testrange)): #Loop for each value in testrange\n",
    "            E = calcE(P, Q, testrange[i], D, k) #Calculate the electric field for the given inputs of this iteration\n",
    "            Es.append(E) #Add the calculated electric field vector to the list\n",
    "            r̂s.append((1/np.linalg.norm(E))*E) #Add the calculated electric field unit vector to the list\n",
    "    \n",
    "    Es = np.array(Es, dtype=object) #Convert the electric field list to a Numpy array\n",
    "    r̂s = np.array(r̂s, dtype=object) #Convert the electric field unit vector list to a Numpy array\n",
    "    \n",
    "    return Es, r̂s, testrange #Return data"
   ]
  },
  {
   "cell_type": "markdown",
   "id": "d616bde8-e3d4-4af1-b957-e641cbb8b3b0",
   "metadata": {},
   "source": [
    "### varierAver"
   ]
  },
  {
   "cell_type": "markdown",
   "id": "da4571ed-1a42-426c-af5e-27a9a8507c43",
   "metadata": {},
   "source": [
    "This function is intended to do the same thing as 'varier' but with repeated and averaged calculations for each input."
   ]
  },
  {
   "cell_type": "code",
   "execution_count": 77,
   "id": "0f73187a-8051-42c3-a76c-67d02bfabf25",
   "metadata": {},
   "outputs": [],
   "source": [
    "def varierAver(num, N, Varied_Variable, testrange, P, Q, n, D, k=8.988E9):\n",
    "    \n",
    "    \"\"\"\n",
    "    Calculates averaged electric field data repeatedly with a single varied input over each calculation and lists the data to see how it behaves with the\n",
    "    specified inputs changing.\n",
    "    \n",
    "    INPUTS\n",
    "    num:             The number of points to average for each input. (Unitless)\n",
    "    N:               The number of different inputs to be tested. (Unitless)\n",
    "    Varied_Variable: The input that will be adjusted between calculations. (String)\n",
    "    testrange:       A 1D, two-element list with the first element being the first input in place of the varied input and the second element being\n",
    "                         the last (exclusive). (2 element list, units depend on which input it is being applied to)\n",
    "    P:               A list of an arbitrary number of elements with each element being a position along an axis. (ND vector, meters 'm')\n",
    "    Q:               The total charge to be distributed about the n random points from D. (Coulombs 'C')\n",
    "    n:               The number of random points to be selected from D. (Dimensionless)\n",
    "    D:               An list or Numpy array of the same length as P containing sublists or subarrays with associated positions along an axis,\n",
    "                         with each element of D representing an axis in ND space and each element of those axes representing a position along\n",
    "                         the given axis. A possible point would be, for example, a vector of the values at the i-th index of each axis.\n",
    "                         (1D list or array of ND vectors, meters 'm')\n",
    "    k:               Coulomb's constant. (Kilogram meter-cubed per second-squared Coulomb-squared 'kg * m^3 * s^-2 * C^-2')\n",
    "    \n",
    "    OUTPUTS\n",
    "    Es:        A Numpy array of each calculated electric field vector average. (1D array of ND vectors, Newtons per Coulomb 'N/C')\n",
    "    r̂s:        A Numpy array of each calculated electric field unit vector average. (1D array of ND vectors, unitless)\n",
    "    Eσs:       A Numpy array of the standard deviation for each electric field magnitude calculation. (1D array, Newtons per Coulomb 'N/C')\n",
    "    x̂θσs:      A Numpy array of the standard deviation for each electric field unit vector angle to the X-axis. (1D array, radians 'rad')\n",
    "    r̂θσs:      A Numpy array of the standard deviation for each electric field unit vector angle to the average electric field unit\n",
    "                   vector. (1D array, radians 'rad')\n",
    "    testrange: A Numpy array of each input value tested in place of the varied input. (1D array, units depend on which input it is applied to)\n",
    "    \"\"\"\n",
    "    \n",
    "    testrange = np.arange(testrange[0], testrange[1], (testrange[1]-testrange[0])/N) #Set testrange to a list of values that will be used in place of the\n",
    "                                                                                     #varied input\n",
    "    \n",
    "    Es = []   #\n",
    "    r̂s = []   #\n",
    "    Eσs = []  #Define starting variables (lists to add data to)\n",
    "    x̂θσs = [] #\n",
    "    r̂θσs = [] #\n",
    "    \n",
    "    x̂ = np.zeros(len(P))\n",
    "    x̂[0] = 1\n",
    "    \n",
    "    if (Varied_Variable == \"Q\"): #If the input to be varied is Q\n",
    "        for i in tqdm(range(len(testrange))): #Loop for each value in testrange\n",
    "            aveE, aver̂, Emags, x̂θs, r̂θs = tester(num, P, testrange[i], n, D, k) #Calculate the electric field data for the given inputs of this\n",
    "                                                                                #iteration\n",
    "            Es.append(aveE)           #\n",
    "            r̂s.append(aver̂)           #\n",
    "            Eσs.append(np.std(Emags)) #Add the calculated data to the lists\n",
    "            x̂θσs.append(np.std(x̂θs))  #\n",
    "            r̂θσs.append(np.std(r̂θs))  #\n",
    "    elif (Varied_Variable == \"r\"): #If the input to be varied is the distance of the point to the origin\n",
    "        variedR = np.zeros(len(P)) #Define an ND zero vector\n",
    "        for i in tqdm(range(len(testrange))): #Loop for each value in testrange\n",
    "            variedR[0] = testrange[i] #Set the value along the first axis of the previously defined ND zero vector to the given input of this iteration\n",
    "            aveE, aver̂, Emags, x̂θs, r̂θs = tester(num, variedR, Q, n, D, k) #Calculate the electric field for the given inputs of this iteration\n",
    "            Es.append(aveE)           #\n",
    "            r̂s.append(aver̂)           #\n",
    "            Eσs.append(np.std(Emags)) #Add the calculated data to the lists\n",
    "            x̂θσs.append(np.std(x̂θs))  #\n",
    "            r̂θσs.append(np.std(r̂θs))  #\n",
    "    elif (Varied_Variable == \"n\"): #If the input to be varied is n\n",
    "        testrange = np.unique(testrange.astype(int)) #Cast all of the elements of testrange to integers and remove non-unique values\n",
    "        testrange = testrange[testrange != 0] #Delete all occurrences of the value 0 from the testrange to avoid divisions by zero\n",
    "        for i in tqdm(range(len(testrange))): #Loop for each value in testrange\n",
    "            aveE, aver̂, Emags, x̂θs, r̂θs = tester(num, P, Q, testrange[i], D, k) #Calculate the electric field for the given inputs of this iteration\n",
    "            Es.append(aveE)           #\n",
    "            r̂s.append(aver̂)           #\n",
    "            Eσs.append(np.std(Emags)) #Add the calculated data to the lists\n",
    "            x̂θσs.append(np.std(x̂θs))  #\n",
    "            r̂θσs.append(np.std(r̂θs))  #\n",
    "    \n",
    "    Es = np.array(Es, dtype=object) #Convert the electric field vector list to a Numpy array\n",
    "    r̂s = np.array(r̂s, dtype=object) #Convert the electric field unit vector list to a Numpy array\n",
    "    Eσs = np.array(Eσs) #Convert the electric field magnitude standard deviation list to a Numpy array\n",
    "    x̂θσs = np.array(x̂θσs) #Convert the list of standard deviations for the electric field unit vector angles to the X-axis to a Numpy array\n",
    "    r̂θσs = np.array(r̂θσs) #Convert the list of standard deviations for the electric field unit vector angles to the average electric field unit vector\n",
    "                          #to a Numpy array\n",
    "    \n",
    "    return Es, r̂s, Eσs, x̂θσs, r̂θσs, testrange #Return data"
   ]
  },
  {
   "cell_type": "markdown",
   "id": "21d1c37f-0fc3-49de-805d-0a6325a3bba4",
   "metadata": {},
   "source": []
  },
  {
   "cell_type": "markdown",
   "id": "fd6f81e2-9193-4f10-bf20-214dd9787244",
   "metadata": {},
   "source": []
  },
  {
   "cell_type": "code",
   "execution_count": 123,
   "id": "6541387b-7b86-404a-9690-992c08dda18e",
   "metadata": {},
   "outputs": [],
   "source": [
    "def genCircle(P, R, Δ):\n",
    "    \n",
    "    P = np.array(P)\n",
    "    \n",
    "    θ = np.arange(0, 2*np.pi+Δ, Δ)\n",
    "    \n",
    "    D = np.array([R*np.cos(θ), R*np.sin(θ)])\n",
    "    \n",
    "    return D"
   ]
  },
  {
   "cell_type": "code",
   "execution_count": 133,
   "id": "58c1524a-d55a-477d-85c7-675d882741e3",
   "metadata": {},
   "outputs": [
    {
     "name": "stdout",
     "output_type": "stream",
     "text": [
      "[[ 2.00000000e+00  1.99605346e+00  1.98422940e+00  1.96457450e+00\n",
      "   1.93716632e+00  1.90211303e+00  1.85955297e+00  1.80965410e+00\n",
      "   1.75261336e+00  1.68865585e+00  1.61803399e+00  1.54102649e+00\n",
      "   1.45793725e+00  1.36909421e+00  1.27484798e+00  1.17557050e+00\n",
      "   1.07165359e+00  9.63507348e-01  8.51558583e-01  7.36249105e-01\n",
      "   6.18033989e-01  4.97379774e-01  3.74762629e-01  2.50666467e-01\n",
      "   1.25581039e-01 -3.21624530e-16 -1.25581039e-01 -2.50666467e-01\n",
      "  -3.74762629e-01 -4.97379774e-01 -6.18033989e-01 -7.36249105e-01\n",
      "  -8.51558583e-01 -9.63507348e-01 -1.07165359e+00 -1.17557050e+00\n",
      "  -1.27484798e+00 -1.36909421e+00 -1.45793725e+00 -1.54102649e+00\n",
      "  -1.61803399e+00 -1.68865585e+00 -1.75261336e+00 -1.80965410e+00\n",
      "  -1.85955297e+00 -1.90211303e+00 -1.93716632e+00 -1.96457450e+00\n",
      "  -1.98422940e+00 -1.99605346e+00 -2.00000000e+00 -1.99605346e+00\n",
      "  -1.98422940e+00 -1.96457450e+00 -1.93716632e+00 -1.90211303e+00\n",
      "  -1.85955297e+00 -1.80965410e+00 -1.75261336e+00 -1.68865585e+00\n",
      "  -1.61803399e+00 -1.54102649e+00 -1.45793725e+00 -1.36909421e+00\n",
      "  -1.27484798e+00 -1.17557050e+00 -1.07165359e+00 -9.63507348e-01\n",
      "  -8.51558583e-01 -7.36249105e-01 -6.18033989e-01 -4.97379774e-01\n",
      "  -3.74762629e-01 -2.50666467e-01 -1.25581039e-01 -3.67394040e-16\n",
      "   1.25581039e-01  2.50666467e-01  3.74762629e-01  4.97379774e-01\n",
      "   6.18033989e-01  7.36249105e-01  8.51558583e-01  9.63507348e-01\n",
      "   1.07165359e+00  1.17557050e+00  1.27484798e+00  1.36909421e+00\n",
      "   1.45793725e+00  1.54102649e+00  1.61803399e+00  1.68865585e+00\n",
      "   1.75261336e+00  1.80965410e+00  1.85955297e+00  1.90211303e+00\n",
      "   1.93716632e+00  1.96457450e+00  1.98422940e+00  1.99605346e+00\n",
      "   2.00000000e+00]\n",
      " [ 0.00000000e+00  1.25581039e-01  2.50666467e-01  3.74762629e-01\n",
      "   4.97379774e-01  6.18033989e-01  7.36249105e-01  8.51558583e-01\n",
      "   9.63507348e-01  1.07165359e+00  1.17557050e+00  1.27484798e+00\n",
      "   1.36909421e+00  1.45793725e+00  1.54102649e+00  1.61803399e+00\n",
      "   1.68865585e+00  1.75261336e+00  1.80965410e+00  1.85955297e+00\n",
      "   1.90211303e+00  1.93716632e+00  1.96457450e+00  1.98422940e+00\n",
      "   1.99605346e+00  2.00000000e+00  1.99605346e+00  1.98422940e+00\n",
      "   1.96457450e+00  1.93716632e+00  1.90211303e+00  1.85955297e+00\n",
      "   1.80965410e+00  1.75261336e+00  1.68865585e+00  1.61803399e+00\n",
      "   1.54102649e+00  1.45793725e+00  1.36909421e+00  1.27484798e+00\n",
      "   1.17557050e+00  1.07165359e+00  9.63507348e-01  8.51558583e-01\n",
      "   7.36249105e-01  6.18033989e-01  4.97379774e-01  3.74762629e-01\n",
      "   2.50666467e-01  1.25581039e-01 -6.43249060e-16 -1.25581039e-01\n",
      "  -2.50666467e-01 -3.74762629e-01 -4.97379774e-01 -6.18033989e-01\n",
      "  -7.36249105e-01 -8.51558583e-01 -9.63507348e-01 -1.07165359e+00\n",
      "  -1.17557050e+00 -1.27484798e+00 -1.36909421e+00 -1.45793725e+00\n",
      "  -1.54102649e+00 -1.61803399e+00 -1.68865585e+00 -1.75261336e+00\n",
      "  -1.80965410e+00 -1.85955297e+00 -1.90211303e+00 -1.93716632e+00\n",
      "  -1.96457450e+00 -1.98422940e+00 -1.99605346e+00 -2.00000000e+00\n",
      "  -1.99605346e+00 -1.98422940e+00 -1.96457450e+00 -1.93716632e+00\n",
      "  -1.90211303e+00 -1.85955297e+00 -1.80965410e+00 -1.75261336e+00\n",
      "  -1.68865585e+00 -1.61803399e+00 -1.54102649e+00 -1.45793725e+00\n",
      "  -1.36909421e+00 -1.27484798e+00 -1.17557050e+00 -1.07165359e+00\n",
      "  -9.63507348e-01 -8.51558583e-01 -7.36249105e-01 -6.18033989e-01\n",
      "  -4.97379774e-01 -3.74762629e-01 -2.50666467e-01 -1.25581039e-01\n",
      "   1.28649812e-15]]\n"
     ]
    },
    {
     "data": {
      "text/plain": [
       "(-2.2, 2.2, -2.2, 2.2)"
      ]
     },
     "execution_count": 133,
     "metadata": {},
     "output_type": "execute_result"
    },
    {
     "data": {
      "image/png": "[encoded data removed]",
      "text/plain": [
       "<Figure size 432x288 with 1 Axes>"
      ]
     },
     "metadata": {
      "needs_background": "light"
     },
     "output_type": "display_data"
    }
   ],
   "source": [
    "D = genCircle([1, 1], 2, 2*np.pi/100)\n",
    "\n",
    "print(D)\n",
    "\n",
    "fig, axe = plt.subplots()\n",
    "axe.scatter(D[0], D[1], 0.2, \"RED\")\n",
    "axe.axis('equal')"
   ]
  },
  {
   "cell_type": "markdown",
   "id": "b32711c5-fd1f-4b24-8717-39df1ae1175f",
   "metadata": {},
   "source": [
    "## Tests"
   ]
  },
  {
   "cell_type": "code",
   "execution_count": 42,
   "id": "6acde104-7f26-4f51-be4d-495153f897dd",
   "metadata": {},
   "outputs": [
    {
     "name": "stdout",
     "output_type": "stream",
     "text": [
      "[[3], [1]]\n",
      "[[1, 1, 1], [2, 2, 2], [2, 2, 2]]\n"
     ]
    }
   ],
   "source": [
    "#placePoints test\n",
    "\n",
    "print(placePoints(2, [[1, 2, 3]]))\n",
    "print(placePoints(3, [[1, 2, 3, 4], [1, 2, 3, 4], [1, 2, 3, 4]]))"
   ]
  },
  {
   "cell_type": "code",
   "execution_count": 44,
   "id": "e4db242f-294a-4e38-acd2-4ec94a0f843a",
   "metadata": {},
   "outputs": [
    {
     "name": "stdout",
     "output_type": "stream",
     "text": [
      "[-9.98666667e+08]\n",
      "[-5.6175e+09]\n",
      "[-3.2207e+09]\n",
      "[-4.1944e+09]\n",
      "[-4.07870447e+09]\n",
      "\n",
      "[-3.17773787e+09 -3.17773787e+09]\n",
      "[-9.44494313e+08 -9.44494313e+08]\n",
      "[-1.34171155e+09 -1.34171155e+09]\n",
      "[-1.43876054e+09 -1.43876054e+09]\n",
      "\n",
      "[-1.57372888e+09 -1.57372888e+09]\n",
      "[-9.66128917e+08 -9.66128917e+08]\n",
      "[-1.02107186e+09 -1.02107186e+09]\n",
      "[-1.05447556e+09 -1.05447556e+09]\n"
     ]
    }
   ],
   "source": [
    "#calcE test\n",
    "\n",
    "print(calcE([0], 1, 1, [[1, 2, 3]]))\n",
    "print(calcE([0], 1, 2, [[1, 2, 3]]))\n",
    "print(calcE([0], 1, 10, [[1, 2, 3]]))\n",
    "print(calcE([0], 1, 200, [[1, 2, 3]]))\n",
    "print(calcE([0], 1, 20000, [[1, 2, 3]]))\n",
    "print()\n",
    "print(calcE([0, 0], 1, 1, [[1, 2, 3], [1, 2, 3]]))\n",
    "print(calcE([0, 0], 1, 10, [[1, 2, 3], [1, 2, 3]]))\n",
    "print(calcE([0, 0], 1, 200, [[1, 2, 3], [1, 2, 3]]))\n",
    "print(calcE([0, 0], 1, 20000, [[1, 2, 3], [1, 2, 3]]))\n",
    "print()\n",
    "a = np.arange(1, 3, 0.001)\n",
    "print(calcE([0, 0], 1, 1, [a, a]))\n",
    "print(calcE([0, 0], 1, 10, [a, a]))\n",
    "print(calcE([0, 0], 1, 200, [a, a]))\n",
    "print(calcE([0, 0], 1, 20000, [a, a]))"
   ]
  },
  {
   "cell_type": "code",
   "execution_count": 59,
   "id": "3870bcc5-052d-4d83-ba30-39cffdd2e015",
   "metadata": {},
   "outputs": [
    {
     "name": "stdout",
     "output_type": "stream",
     "text": [
      "[-1.44453564e+09 -1.44453564e+09]\n"
     ]
    }
   ],
   "source": [
    "#tester test\n",
    "\n",
    "a = tester(100, [0, 0], 1, 2000, [[1, 2, 3], [1, 2, 3]])\n",
    "print(a[0])"
   ]
  },
  {
   "cell_type": "code",
   "execution_count": 60,
   "id": "e412d6a9-905d-46ca-832e-5471aa54e932",
   "metadata": {},
   "outputs": [
    {
     "name": "stdout",
     "output_type": "stream",
     "text": [
      "[-1.72068371e+09 -1.72068371e+09 -1.72068371e+09]\n"
     ]
    }
   ],
   "source": [
    "#tester test 2\n",
    "\n",
    "a = np.arange(0.1, 10, 0.0001)\n",
    "print(tester(1000, [0, 0, 0], 1, 200, [a, a, a])[0])"
   ]
  },
  {
   "cell_type": "code",
   "execution_count": 64,
   "id": "129cb325-f4ab-437c-8013-5440c7d07f50",
   "metadata": {},
   "outputs": [
    {
     "name": "stdout",
     "output_type": "stream",
     "text": [
      "E:\t\t\t\t\t[-3.18865019e+11 -3.18865019e+11] N/C\n",
      "E standard deviation:\t\t\t181753727996.53006 N/C\n",
      "E percent standard deviation:\t\t40.30523451645791 %\n",
      "\n",
      "r̂:\t\t\t\t\t[-0.70710678 -0.70710678]\n",
      "\n",
      "Mean angle from x̂:\t\t\t2.3561944901923444 rad\n",
      "Angle from x̂ standard deviation:\t4.487279198552985e-16 rad\n",
      "Mean angle from r̂:\t\t\t0.0 rad\n",
      "Angle from r̂ standard deviation:\t0.0 rad\n",
      "\n",
      "\n",
      "E:\t\t\t\t\t[-1.71221101e+11 -1.71221101e+11 -1.71221101e+11] N/C\n",
      "E standard deviation:\t\t\t119331920079.53773 N/C\n",
      "E percent standard deviation:\t\t40.23821580141705 %\n",
      "\n",
      "r̂:\t\t\t\t\t[-0.57735027 -0.57735027 -0.57735027]\n",
      "\n",
      "Mean angle from x̂:\t\t\t2.186276035465284 rad\n",
      "Angle from x̂ standard deviation:\t2.558817209832386e-16 rad\n",
      "Mean angle from r̂:\t\t\t0.0 rad\n",
      "Angle from r̂ standard deviation:\t0.0 rad\n",
      "\n",
      "\n",
      "\n",
      "\n",
      "E:\t\t\t\t\t[-3.18340541e+11 -3.18340541e+11] N/C\n",
      "E standard deviation:\t\t\t18075965644.006687 N/C\n",
      "E percent standard deviation:\t\t4.015083299488252 %\n",
      "\n",
      "r̂:\t\t\t\t\t[-0.70710678 -0.70710678]\n",
      "\n",
      "Mean angle from x̂:\t\t\t2.3561944901923444 rad\n",
      "Angle from x̂ standard deviation:\t4.552726686797933e-16 rad\n",
      "Mean angle from r̂:\t\t\t0.0 rad\n",
      "Angle from r̂ standard deviation:\t0.0 rad\n",
      "\n",
      "\n",
      "E:\t\t\t\t\t[-1.73097004e+11 -1.73097004e+11 -1.73097004e+11] N/C\n",
      "E standard deviation:\t\t\t12233837305.687174 N/C\n",
      "E percent standard deviation:\t\t4.080491916941231 %\n",
      "\n",
      "r̂:\t\t\t\t\t[-0.57735027 -0.57735027 -0.57735027]\n",
      "\n",
      "Mean angle from x̂:\t\t\t2.186276035465284 rad\n",
      "Angle from x̂ standard deviation:\t2.51607010323612e-16 rad\n",
      "Mean angle from r̂:\t\t\t0.0 rad\n",
      "Angle from r̂ standard deviation:\t0.0 rad\n"
     ]
    }
   ],
   "source": [
    "#testandsummarize test\n",
    "\n",
    "a = np.arange(0.1, 10, 0.0001)\n",
    "testandsummarize(1000, [0, 0], 100, 200, [a, a])\n",
    "print()\n",
    "print()\n",
    "testandsummarize(1000, [0, 0, 0], 100, 200, [a, a, a])\n",
    "print()\n",
    "print()\n",
    "print()\n",
    "print()\n",
    "testandsummarize(1000, [0, 0], 100, 20000, [a, a])\n",
    "print()\n",
    "print()\n",
    "testandsummarize(1000, [0, 0, 0], 100, 20000, [a, a, a])"
   ]
  },
  {
   "cell_type": "code",
   "execution_count": 65,
   "id": "df9897bf-cb68-4160-ae60-b17bfefdc1c1",
   "metadata": {},
   "outputs": [
    {
     "name": "stdout",
     "output_type": "stream",
     "text": [
      "E:\t\t\t\t\t[-3.58580239e+11 -3.13575318e+11] N/C\n",
      "E standard deviation:\t\t\t176266678975.03183 N/C\n",
      "E percent standard deviation:\t\t37.003610792833456 %\n",
      "\n",
      "r̂:\t\t\t\t\t[-0.75956983 -0.65042576]\n",
      "\n",
      "Mean angle from x̂:\t\t\t2.4334575840927894 rad\n",
      "Angle from x̂ standard deviation:\t0.032767847601123626 rad\n",
      "Mean angle from r̂:\t\t\t0.02419347501899964 rad\n",
      "Angle from r̂ standard deviation:\t0.022099947923778156 rad\n",
      "\n",
      "\n",
      "E:\t\t\t\t\t[-1.85159471e+11 -1.67246113e+11 -1.85159471e+11] N/C\n",
      "E standard deviation:\t\t\t122988910504.65501 N/C\n",
      "E percent standard deviation:\t\t39.58346726046503 %\n",
      "\n",
      "r̂:\t\t\t\t\t[-0.59917353 -0.53101993 -0.59917353]\n",
      "\n",
      "Mean angle from x̂:\t\t\t2.2130723855311114 rad\n",
      "Angle from x̂ standard deviation:\t0.011642491279229181 rad\n",
      "Mean angle from r̂:\t\t\t0.01900083840177338 rad\n",
      "Angle from r̂ standard deviation:\t0.017024726075880004 rad\n",
      "\n",
      "\n",
      "\n",
      "\n",
      "E:\t\t\t\t\t[-3.55404110e+11 -3.10345217e+11] N/C\n",
      "E standard deviation:\t\t\t18464748066.6445 N/C\n",
      "E percent standard deviation:\t\t3.9134087841906835 %\n",
      "\n",
      "r̂:\t\t\t\t\t[-0.75330887 -0.65766689]\n",
      "\n",
      "Mean angle from x̂:\t\t\t2.4238752394677636 rad\n",
      "Angle from x̂ standard deviation:\t0.0026388503122179875 rad\n",
      "Mean angle from r̂:\t\t\t0.002103317511214636 rad\n",
      "Angle from r̂ standard deviation:\t0.001593607987358849 rad\n",
      "\n",
      "\n",
      "E:\t\t\t\t\t[-1.83488550e+11 -1.65606514e+11 -1.83488550e+11] N/C\n",
      "E standard deviation:\t\t\t11391673061.827847 N/C\n",
      "E percent standard deviation:\t\t3.7005927169014985 %\n",
      "\n",
      "r̂:\t\t\t\t\t[-0.59608798 -0.5379203  -0.59608798]\n",
      "\n",
      "Mean angle from x̂:\t\t\t2.209415454407555 rad\n",
      "Angle from x̂ standard deviation:\t0.0008227585820695238 rad\n",
      "Mean angle from r̂:\t\t\t0.0013986090355226162 rad\n",
      "Angle from r̂ standard deviation:\t0.001030258952108297 rad\n"
     ]
    }
   ],
   "source": [
    "#testandsummarize test\n",
    "\n",
    "a = np.arange(0.1, 10, 0.0001)\n",
    "b = np.sin(a)\n",
    "testandsummarize(1000, [0, 0], 100, 200, [a, b])\n",
    "print()\n",
    "print()\n",
    "testandsummarize(1000, [0, 0, 0], 100, 200, [a, b, a])\n",
    "print()\n",
    "print()\n",
    "print()\n",
    "print()\n",
    "testandsummarize(1000, [0, 0], 100, 20000, [a, b])\n",
    "print()\n",
    "print()\n",
    "testandsummarize(1000, [0, 0, 0], 100, 20000, [a, b, a])"
   ]
  },
  {
   "cell_type": "code",
   "execution_count": 69,
   "id": "2ced9336-65b3-4a7c-b3fc-738dfeb938a5",
   "metadata": {},
   "outputs": [
    {
     "name": "stderr",
     "output_type": "stream",
     "text": [
      "100%|██████████████████████████████████████████████████████████████████████████████████████████| 99/99 [00:00<?, ?it/s]\n"
     ]
    },
    {
     "data": {
      "text/plain": [
       "[<matplotlib.lines.Line2D at 0x238f57acb20>]"
      ]
     },
     "execution_count": 69,
     "metadata": {},
     "output_type": "execute_result"
    },
    {
     "data": {
      "image/png": "[encoded data removed]",
      "text/plain": [
       "<Figure size 432x288 with 1 Axes>"
      ]
     },
     "metadata": {
      "needs_background": "light"
     },
     "output_type": "display_data"
    }
   ],
   "source": [
    "#varier test\n",
    "\n",
    "a = np.arange(-10, 10, 0.0001)\n",
    "E, r̂, testrange = varier(100, \"n\", [1, 100], [0, 0, 0], 1, 200, [a, a, a])\n",
    "y = []\n",
    "\n",
    "for i in tqdm(range(len(E))):\n",
    "    y.append(np.linalg.norm(E[i]))\n",
    "\n",
    "fig, axe = plt.subplots()\n",
    "axe.plot(testrange, y, \"RED\")"
   ]
  },
  {
   "cell_type": "code",
   "execution_count": 72,
   "id": "7de74f59-9d95-4abc-8409-6d2b1d4a7f8e",
   "metadata": {},
   "outputs": [
    {
     "name": "stderr",
     "output_type": "stream",
     "text": [
      "100%|████████████████████████████████████████████████████████████████████████████████| 100/100 [07:19<00:00,  4.40s/it]\n",
      "100%|████████████████████████████████████████████████████████████████████████████| 100/100 [00:00<00:00, 100126.62it/s]\n"
     ]
    },
    {
     "data": {
      "text/plain": [
       "[<matplotlib.lines.Line2D at 0x238f5824310>]"
      ]
     },
     "execution_count": 72,
     "metadata": {},
     "output_type": "execute_result"
    },
    {
     "data": {
      "image/png": "[encoded data removed]",
      "text/plain": [
       "<Figure size 432x288 with 1 Axes>"
      ]
     },
     "metadata": {
      "needs_background": "light"
     },
     "output_type": "display_data"
    }
   ],
   "source": [
    "#varier test\n",
    "\n",
    "a = np.arange(-10, 10, 0.0001)\n",
    "b = np.sin(a)\n",
    "Es, r̂s, Eσs, x̂θσs, r̂θσs, testrange = varierAver(100, 100, \"n\", [1, 10000], [0, 0, 0], 1, 200, [a, b, a])\n",
    "y = []\n",
    "\n",
    "for i in tqdm(range(len(Es))):\n",
    "    y.append(np.linalg.norm(Es[i]))\n",
    "\n",
    "fig, axe = plt.subplots()\n",
    "axe.plot(testrange, y, \"RED\")"
   ]
  },
  {
   "cell_type": "code",
   "execution_count": 73,
   "id": "0839dbf7-bbc8-4a34-a4fe-534ffc1e6443",
   "metadata": {},
   "outputs": [
    {
     "name": "stderr",
     "output_type": "stream",
     "text": [
      "100%|████████████████████████████████████████████████████████████████████████████████| 100/100 [07:13<00:00,  4.34s/it]\n",
      "100%|█████████████████████████████████████████████████████████████████████████████| 100/100 [00:00<00:00, 96933.30it/s]\n"
     ]
    },
    {
     "data": {
      "text/plain": [
       "[<matplotlib.lines.Line2D at 0x238f567ba90>]"
      ]
     },
     "execution_count": 73,
     "metadata": {},
     "output_type": "execute_result"
    },
    {
     "data": {
      "image/png": "[encoded data removed]",
      "text/plain": [
       "<Figure size 432x288 with 1 Axes>"
      ]
     },
     "metadata": {
      "needs_background": "light"
     },
     "output_type": "display_data"
    }
   ],
   "source": [
    "#varier test\n",
    "\n",
    "a = np.arange(-10, 10, 0.0001)\n",
    "Es, r̂s, Eσs, x̂θσs, r̂θσs, testrange = varierAver(100, 100, \"n\", [1, 10000], [0, 0, 0], 1, 200, [a, a, a])\n",
    "y = []\n",
    "\n",
    "for i in tqdm(range(len(Es))):\n",
    "    y.append(np.linalg.norm(Es[i]))\n",
    "\n",
    "fig, axe = plt.subplots()\n",
    "axe.plot(testrange, y, \"RED\")"
   ]
  },
  {
   "cell_type": "code",
   "execution_count": 74,
   "id": "ef7e3e77-6c9d-47ae-8724-bf6065cc2b3f",
   "metadata": {},
   "outputs": [
    {
     "data": {
      "text/plain": [
       "[<matplotlib.lines.Line2D at 0x238f58c96a0>]"
      ]
     },
     "execution_count": 74,
     "metadata": {},
     "output_type": "execute_result"
    },
    {
     "data": {
      "image/png": "[encoded data removed]",
      "text/plain": [
       "<Figure size 432x288 with 1 Axes>"
      ]
     },
     "metadata": {
      "needs_background": "light"
     },
     "output_type": "display_data"
    }
   ],
   "source": [
    "fig, axe = plt.subplots()\n",
    "axe.plot(testrange, Eσs, \"RED\")"
   ]
  },
  {
   "cell_type": "code",
   "execution_count": 75,
   "id": "e2c36636-93d0-48d9-99b8-233a58ebd713",
   "metadata": {},
   "outputs": [
    {
     "data": {
      "text/plain": [
       "[<matplotlib.lines.Line2D at 0x238f4795e80>]"
      ]
     },
     "execution_count": 75,
     "metadata": {},
     "output_type": "execute_result"
    },
    {
     "data": {
      "image/png": "[encoded data removed]",
      "text/plain": [
       "<Figure size 432x288 with 1 Axes>"
      ]
     },
     "metadata": {
      "needs_background": "light"
     },
     "output_type": "display_data"
    }
   ],
   "source": [
    "fig, axe = plt.subplots()\n",
    "axe.plot(testrange, x̂θσs, \"RED\")\n",
    "axe.plot(testrange, r̂θσs, \"BLUE\")"
   ]
  },
  {
   "cell_type": "code",
   "execution_count": null,
   "id": "606c3113-5fbd-4948-b414-c2cd6becb40c",
   "metadata": {},
   "outputs": [],
   "source": []
  }
 ],
 "metadata": {
  "kernelspec": {
   "display_name": "Python 3 (ipykernel)",
   "language": "python",
   "name": "python3"
  },
  "language_info": {
   "codemirror_mode": {
    "name": "ipython",
    "version": 3
   },
   "file_extension": ".py",
   "mimetype": "text/x-python",
   "name": "python",
   "nbconvert_exporter": "python",
   "pygments_lexer": "ipython3",
   "version": "3.8.8"
  }
 },
 "nbformat": 4,
 "nbformat_minor": 5
}
