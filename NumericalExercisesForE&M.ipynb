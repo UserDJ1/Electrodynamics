{
 "cells": [
  {
   "cell_type": "markdown",
   "metadata": {
    "slideshow": {
     "slide_type": "-"
    }
   },
   "source": [
    "## Numerical Exercises for E&M :  Charges, Method of Images, Boundary Value Problems\n",
    "\n",
    "\n",
    "Make a copy and return the notebook, but only include the code and plots for the exercises. Include plot titles on all plots. Discuss the results for each exercise. Additional exploration is encouraged!\n",
    "\n",
    "See  http://matplotlib.org/examples/color/colormaps_reference.html for color tables.\n",
    "\n",
    "## 1.  Equipotentials and Electric Field Lines: point charges\n",
    "\n",
    "We'll start with taking a look at the electric field and potential for a system of point charges. Recall that equipotentials are the family of curves V =  constant and $\\vec{E} = - \\nabla V$.\n",
    "\n",
    "### Electric Field\n",
    "$$ \\vec{E}(\\vec{r}) = \\frac{1}{4\\pi\\epsilon_0}\\sum_i \\frac{q_i\\,\\left(\\vec{r}-\\vec{r}_i\\right)}{\\left\\vert \\vec{r} - \\vec{r}_i \\right\\vert^3} $$"
   ]
  },
  {
   "cell_type": "markdown",
   "metadata": {},
   "source": [
    "### Electric Potential\n",
    "\n",
    "$$ V(\\vec{r}) = \\frac{1}{4\\pi\\epsilon_0} \\sum_i \\frac{q_i}{\\left\\vert \\vec{r} - \\vec{r}_i \\right\\vert} $$"
   ]
  },
  {
   "cell_type": "code",
   "execution_count": null,
   "metadata": {
    "slideshow": {
     "slide_type": "-"
    }
   },
   "outputs": [],
   "source": [
    "%matplotlib inline\n",
    "import numpy as np\n",
    "import matplotlib.pyplot as plt\n",
    "import scipy.integrate\n",
    "from __future__ import division\n",
    "import matplotlib.cm as cm\n",
    "import check             # see check.py  just checks array shape, max, min\n",
    "\n",
    "k = (9E9) * (1E-9)    # Will yield E in units of Volts/meter, and V in Volts.\n",
    "#set some default plot parameters\n",
    "#plt.rcParams.keys()     # This is a dictionary that lists all plot parameters\n",
    "\n",
    "plt.rc(\"xtick\", labelsize=\"large\")\n",
    "plt.rc(\"ytick\", labelsize=\"large\")\n",
    "plt.rc(\"axes\", labelsize=\"xx-large\")\n",
    "plt.rc(\"axes\", titlesize=\"xx-large\")\n",
    "sz = 8.\n",
    "plt.rc(\"figure\", figsize=(1.25*sz,sz))  # gives a figure with equal aspect ratio;\n",
    "# or can also do by adding to the figure\n",
    "#xx = plt.axes().set_aspect('equal')"
   ]
  },
  {
   "cell_type": "markdown",
   "metadata": {},
   "source": [
    "The functions defined below implement the calculation and plotting of both equipotential lines (via a contour plot) and electric field lines (via the stream plot function). "
   ]
  },
  {
   "cell_type": "markdown",
   "metadata": {},
   "source": [
    "## 1.1 Functions to create $\\vec{E}$, V, and plots.\n",
    "\n",
    "The *V* function for potential and the *Efield* function for electric field take as argument the $x$ and $y$ coordinates of the field point, and then the list of electric charges. Here, we're looking at V and $\\vec{E}$ in the plane z=0.  \n",
    "\n",
    "The list of electric charges, *qr*, is set up so that each charge *q* in *qr* is a three-element tuple. Put the charges at z=0, and plot the fields in the plane z=0. For each *q* in *qr*:\n",
    "\n",
    "  * q[0] is the charge's $x$ coordinate.\n",
    "  * q[1] is the charge's $y$ coordinate.\n",
    "  * q[2] is the electric charge. \n",
    "  \n",
    "The Coulomb constant $k=\\frac{1}{4\\pi \\epsilon_0}$ is scaled in a way that assumes the charges will be given in units of nC.\n",
    "\n",
    "The code also takes care to avoid having the field point at the location of the point charge."
   ]
  },
  {
   "cell_type": "code",
   "execution_count": null,
   "metadata": {
    "slideshow": {
     "slide_type": "-"
    }
   },
   "outputs": [],
   "source": [
    "# One point charge at (x, y, 0)\n",
    "qr = [(0.0,0.0,1.0)]  # x, y, Q. z = 0 . Assume the given charges are in nC\n",
    "k = (9E9) * (1E-9)    # Will yield E in units of Volts/meter, and V in Volts.\n",
    "radius = 0.02         # \"dead zone\" to prevent calculating E or V on top of a charge\n",
    "x = np.arange(-10.0,10.0,0.1)\n",
    "y = np.arange(-10.0,10.0,0.1)\n",
    "X,Y = np.meshgrid(x,y)\n",
    "def V(x, y, qr):\n",
    "    Vr = 0.0\n",
    "    for q in qr:\n",
    "        r = np.sqrt((x - q[0])**2 + (y - q[1])**2)\n",
    "        if (r >= radius):\n",
    "            Vr += k*q[2] / r\n",
    "    return Vr\n",
    "\n",
    "def Efield(x, y, qr):\n",
    "    Ex = 0.0\n",
    "    Ey = 0.0\n",
    "    for q in qr:\n",
    "        if ((x-q[0])**2 + (y-q[1])**2 > radius**2):   # a safety \"dead zone\"\n",
    "            \n",
    "            Ex += k*q[2]*(x-q[0])/((x-q[0])**2 + (y-q[1])**2)**1.50\n",
    "            Ey += k*q[2]*(y-q[1])/((x-q[0])**2 + (y-q[1])**2)**1.50\n",
    "\n",
    "    return Ex, Ey"
   ]
  },
  {
   "cell_type": "markdown",
   "metadata": {},
   "source": [
    "The next function defines the plotting function.  It takes as argument the list of point charges *qr*.  \n",
    "\n",
    "It plots \n",
    "\n",
    "  * A contour plot for the electric potential.\n",
    "  * An extra thick contour line at V=0, for highlighting purposes.\n",
    "  * Optional white contour lines (sometimes useful).\n",
    "  * A stream plot for the electric field. \n",
    " \n",
    "  \n",
    "Note how Varr and Earr are defined in the code below - a cool way to loop over all the charges in qr.  "
   ]
  },
  {
   "cell_type": "code",
   "execution_count": null,
   "metadata": {},
   "outputs": [],
   "source": [
    "def Plots(qr, title = \"\"):\n",
    "    colormap = cm.get_cmap('rainbow')\n",
    "    Varr = np.array([[V(ix,iy,qr) for ix in x] for iy in y ])  \n",
    "    #print(np.min(Varr), np.max(Varr))\n",
    "    Earr = np.array([[Efield(ix,iy,qr) for ix in x] for iy in y])\n",
    "    print(np.shape(Earr[:,:,0]), np.shape(Earr[:,:,1]))\n",
    "    # specify which contours to plot:\n",
    "    equipot = plt.contourf(X,Y,Varr, levels=np.linspace(0.5*np.min(Varr), 0.5*np.max(Varr), 40), cmap=colormap)\n",
    "    # or have contour levels chosen automatically:\n",
    "    #equipot = plt.contour(X,Y,Varr, 40)   \n",
    "    plt.contour(X,Y,Varr, levels=[0.0], linewidths=3.0)  #overplot V = 0 contour\n",
    "    #overplot line contours\n",
    "    plt.contour(X,Y,Varr, levels=np.linspace(0.5*np.min(Varr), 0.5*np.max(Varr), 40), colors='white')\n",
    "\n",
    "    plt.streamplot(x,y, Earr[:,:,0], Earr[:,:,1], color=\"black\", density=3)\n",
    "    plt.colorbar(equipot)\n",
    "    plt.xlim(-7.0, 7.0)\n",
    "    plt.ylim(-7.0, 7.0)\n",
    "    plt.xlabel(\"$x$\")\n",
    "    plt.ylabel(\"$y$\")\n",
    "    plt.title(title)"
   ]
  },
  {
   "cell_type": "markdown",
   "metadata": {},
   "source": [
    "Next,\n",
    "\n",
    "  1. Set up the list of charges *qr*.\n",
    "  2. Call the plotting function, which will plot *both* the electric field lines and the equipotential lines.\n",
    "  "
   ]
  },
  {
   "cell_type": "markdown",
   "metadata": {},
   "source": [
    "### Example: Single point charge\n",
    "\n",
    "Note that for a single point charge, V = 0 only at $\\infty$."
   ]
  },
  {
   "cell_type": "code",
   "execution_count": null,
   "metadata": {},
   "outputs": [],
   "source": [
    "qr = []\n",
    "qr.append((0.0, 0.0, 1.0))"
   ]
  },
  {
   "cell_type": "code",
   "execution_count": null,
   "metadata": {},
   "outputs": [],
   "source": [
    "Plots(qr, title = \"Electric Field Lines and Equipotentials\\n for Single Point Charge\")"
   ]
  },
  {
   "cell_type": "markdown",
   "metadata": {},
   "source": [
    "#### Discussion\n",
    "The electric field lines \"radiate\" out away from the positive charge, as we would expect.  The equipotentials form spheres around the charge.  At every point, the electric field lines and the equipotentials are perpendicular to each other. \n"
   ]
  },
  {
   "cell_type": "markdown",
   "metadata": {},
   "source": [
    "### Example: Two positive charges"
   ]
  },
  {
   "cell_type": "code",
   "execution_count": null,
   "metadata": {},
   "outputs": [],
   "source": [
    "qr = []\n",
    "qr.append((1.0, 0.0, 1.0))\n",
    "qr.append((-1.0, 0.0, 1.0))\n",
    "Plots(qr, title = \"Electric Field Lines and Equipotentials\\n for Two Positive Charges in the plane z = 0\")"
   ]
  },
  {
   "cell_type": "markdown",
   "metadata": {},
   "source": [
    "#### Discussion\n",
    "With the two like charges, we see the electric field lines \"steer away\" from the region in between the charges.  The equipotential surfaces also form an interesting saddle region between the charges.  Far away from the charges, the electric field lines and equipotential surfaces begin to look like those of a single point charge with charge Q = 2q.  \n"
   ]
  },
  {
   "cell_type": "markdown",
   "metadata": {},
   "source": [
    "<div class=\"alert alert-block alert-warning\">\n",
    "Exercise 1: Simulate a line charge by placing 5 positive point charges (q = 1) between x = -2 and x = 2, y = 0. About how far from the origin does the potential look like the potential of a point charge with Q = 5q? (Overplot the potential for Q = 5q for a field point far from the line, and overplot line contours for the potential.) You may have to increase the range of x and y. Hint: try qr = [(-2,0,1),(-1,0,1),(0,0,1),(1,0,1),(2,0,1)] and then run Plots as in the previous example."
   ]
  },
  {
   "cell_type": "code",
   "execution_count": null,
   "metadata": {},
   "outputs": [],
   "source": [
    "qr = [(-2,0,1),(-1,0,1),(0,0,1),(1,0,1),(2,0,1)]         #Exercise 1 solution \n",
    "Plots(qr, title = \"Line of charges\")"
   ]
  },
  {
   "cell_type": "markdown",
   "metadata": {},
   "source": [
    "**Discussion 1:** Type your discussion here."
   ]
  },
  {
   "cell_type": "markdown",
   "metadata": {},
   "source": [
    "###  Example: A positive and negative charge (dipole)"
   ]
  },
  {
   "cell_type": "code",
   "execution_count": null,
   "metadata": {},
   "outputs": [],
   "source": [
    "qr = []\n",
    "qr.append((2.0, 0.0, 1.0))\n",
    "qr.append((-2.0, 0.0, -1.0))"
   ]
  },
  {
   "cell_type": "code",
   "execution_count": null,
   "metadata": {},
   "outputs": [],
   "source": [
    "Plots(qr, title = \"Electric Field Lines and Equipotentials\\n for Opposite Charges\")"
   ]
  },
  {
   "cell_type": "markdown",
   "metadata": {},
   "source": [
    "**Discussion:**\n",
    "\n",
    "A major feature that we see is that the electric field lines point from the positive charge and towards the negative charge. As always, the electric field lines are perpendicular to the equipotential lines. "
   ]
  },
  {
   "cell_type": "markdown",
   "metadata": {},
   "source": [
    "### 2. Method of Images for Boundary Value Problems\n",
    "\n",
    "#### Example:  Point charge near a conducting plane\n",
    "  \n",
    "Find the potential and electric field for a point charge near a grounded, conducting plane. V = 0 on the plane (E, V = 0 inside the conductor).\n",
    " \n",
    "With the $V=0$ equipotential plane at $x=0$, the dipole reproduces the boundary conditions for the problem of a point charge near a conducting plane with V=0 on the plane. Since the solution is unique, this is the solution to the boundary value problem in the region $x>0$. This is the so-called \"method of images\".  \n",
    "\n",
    "The surface charge density induced on the conducting plate can be found from the boundary conditions on the normal component of $\\vec{E}$:\n",
    "\n",
    "$$ \\sigma(y, z) = \\epsilon_0 \\left(\\vec{E}_\\mathrm{outside} - \\vec{E}_\\mathrm{inside}\\right)\\cdot \\hat{n}, $$\n",
    "\n",
    "where in this case $\\hat{n} = \\hat{x}$ and $\\vec{E}_\\mathrm{inside} = 0$.  Then, we are plotting the $x$-component of the electric field for all $y$ at $x=z=0$.  \n",
    "\n",
    "In the plot below of $\\sigma(y, z=0)$, it makes sense that most of the negative charge induced on the plate is concentrated at $y=0$, which is closest to the positive charge. "
   ]
  },
  {
   "cell_type": "code",
   "execution_count": null,
   "metadata": {},
   "outputs": [],
   "source": [
    "# Plot of the surface charge density, for the method of images solution. \n",
    "sigma = [Efield(0.0, iy, qr)[0]/(4.0*np.pi*k) for iy in y]\n",
    "plt.plot(y, sigma)\n",
    "plt.xlabel(\"$y$\")\n",
    "plt.ylabel(\"$\\sigma(y)$\")\n",
    "plt.title(\"Induced Surface Charge Density vs. Vertical Position of the point charge\")"
   ]
  },
  {
   "cell_type": "markdown",
   "metadata": {},
   "source": [
    "#### Example: Point charge $q_a$ near a conducting sphere, radius R.  BC: V = 0 at r = R.\n",
    "Note that E = 0 inside the sphere.\n"
   ]
  },
  {
   "cell_type": "code",
   "execution_count": null,
   "metadata": {},
   "outputs": [],
   "source": [
    "qr = []\n",
    "a = 4.0\n",
    "qa = 1.0\n",
    "R = 2.0\n",
    "qb = -qa*R/a\n",
    "b = (R**2)/a\n",
    "print(qb, b)\n",
    "qr.append((a, 0.0, qa))\n",
    "qr.append((b, 0.0, qb))\n",
    "Plots(qr, title = \"Electric Field Lines and Equipotentials\\n for a point charge near a conducting sphere\")"
   ]
  },
  {
   "cell_type": "markdown",
   "metadata": {},
   "source": [
    "#### Discussion\n",
    " \n",
    "The $V=0$ equipotential surface forms a sphere, so this pair of opposite charges reproduces the boundary conditions with $q_b = -q_a\\frac{R}{a}$ at $b =\\frac{R^2}{a}$.  The solution to the method of images problem can be viewed by plotting this figure, keeping in mind that it is valid only outside the sphere. We know that V=0 inside the sphere.  "
   ]
  },
  {
   "cell_type": "markdown",
   "metadata": {},
   "source": [
    "<div class=\"alert alert-block alert-warning\">\n",
    "Exercise 2: For the given parameters, qb = -0.5. If we take qb = -qa = -1, we have again the dipole with the V = 0 surface the y-z plane. Keeping a, b and R the same, change the value of qb (consider $-1 < qb < -0.5$). Is the equipotential surface V = 0 still a sphere? What happens when $qb < -1$? Hint: try qr = [(1,0,-0.75),(4,0,1)], then run Plots."
   ]
  },
  {
   "cell_type": "code",
   "execution_count": null,
   "metadata": {},
   "outputs": [],
   "source": [
    "qr = [(1,0,-0.75),(4,0,1)]\n",
    "Plots(qr, title = \"Image charge\")                                            #solution to Exercise 2"
   ]
  },
  {
   "cell_type": "markdown",
   "metadata": {},
   "source": [
    "**Discussion 2:** Type your discussion here."
   ]
  },
  {
   "cell_type": "markdown",
   "metadata": {},
   "source": [
    "#### Example:  Four point charges"
   ]
  },
  {
   "cell_type": "code",
   "execution_count": null,
   "metadata": {},
   "outputs": [],
   "source": [
    "qr = []\n",
    "qr.append((1.0, 1.0, 1.0))\n",
    "qr.append((-1.0, 1.0, -1.0))\n",
    "qr.append((-1.0, -1.0, 1.0))\n",
    "qr.append((1.0, -1.0, -1.0))\n",
    "Plots(qr, title = \"Electric Field Lines and Equipotentials\\n for Four Charges\")"
   ]
  },
  {
   "cell_type": "markdown",
   "metadata": {},
   "source": [
    "#### Discussion\n",
    "We see the electric field lines of a *quadrupole* charge distribution.  As before, we see the field lines emanate from the positive charges and \"go into\" the negative charges.  We see the $V=0$ equipotential surface forming two planes, both $x=0$ and $y=0$. This distribution of image charges is the solution to the method of images problem for say a positive point charge at (1,1,0) near a conducting plane bent into a $90^\\circ$ angle. The solution is valid in the region $x>0, y>0$.  \n"
   ]
  },
  {
   "cell_type": "markdown",
   "metadata": {},
   "source": [
    "<div class=\"alert alert-block alert-warning\">\n",
    "Exercise 3: What collection of charges would solve the image problem for a conducting plate bent into a $60^\\circ$ angle? Plot V and the E field lines. *Hint: All you have to do is to create a different qr array. Consider placing charges at the locations (x,y) = (cos 2$\\pi$n/Nq, sin 2$\\pi$n/Nq) where Nq = number of charges and n=0,...Nq-1.*"
   ]
  },
  {
   "cell_type": "code",
   "execution_count": null,
   "metadata": {},
   "outputs": [],
   "source": [
    "#                                                # Solution to Exercise 3         \n",
    "qr = []\n",
    "Nq = 6\n",
    "for n in range(0, Nq):\n",
    "    xn = np.cos(2.0*np.pi * n / Nq)\n",
    "    yn = np.sin(2.0*np.pi * n / Nq)\n",
    "    qn = (-1)**n\n",
    "    qr.append((xn, yn, qn))\n",
    "Plots(qr, title = \"Electric Field Lines and Equipotentials\\n for Six Charges\")"
   ]
  },
  {
   "cell_type": "markdown",
   "metadata": {},
   "source": [
    "**Discussion 3:** Type your discussion here."
   ]
  },
  {
   "cell_type": "markdown",
   "metadata": {},
   "source": [
    "#### Line charge  near a conducting plane"
   ]
  },
  {
   "cell_type": "markdown",
   "metadata": {},
   "source": [
    "<div class=\"alert alert-block alert-warning\">\n",
    "Exercise 4: The potential for an $\\infty$ thin straight wire at $(x_o, y_o)$ running from $- \\infty < z < \\infty$ is V(s)= - 2k$\\lambda$ ln s where s is the distance from the wire $s = [(x-x_o)^2 + (y-y_o)^2]^{1/2}$ and $\\lambda$ is the charge per unit length. The electric field is\n",
    "\n",
    "$$\\vec{E} = (\\frac{2k\\lambda}{s^2})[(x-x_o)\\hat{x}+ (y-y_o)\\hat{y}] $$.\n",
    "\n",
    "The cells below are scripts to 1) compute V and E for any number of line charges going into the page and 2) plot V and ${\\vec E}$ .  For a negative line charge at (-2,0) and a positive line charge at (2,0), create a cell with the lines $\\\\$\n",
    "    \n",
    "    qr = [(-2,0,-1), (2,0,1)]\n",
    "    Plots_line(qr, title=\"Line charge dipole\") $\\\\$\n",
    "    \n",
    "What is the shape of the equipotentials compared to those for the point dipole? Overplot line contours for the potential so you can see them better. Take $\\lambda = 1$."
   ]
  },
  {
   "cell_type": "markdown",
   "metadata": {},
   "source": [
    "### Compute the potential and E for any number of line charges."
   ]
  },
  {
   "cell_type": "code",
   "execution_count": null,
   "metadata": {},
   "outputs": [],
   "source": [
    "def V_line(x, y, qr):                                                              # Exercise 4 solution\n",
    "    Vr = 0.0\n",
    "    for q in qr:\n",
    "        r = np.sqrt((x - q[0])**2 + (y - q[1])**2)\n",
    "        if (r >= radius):\n",
    "            Vr += 2*k*q[2]*np.log(r)\n",
    "    return Vr\n",
    "\n",
    "def Efield_line(x, y, qr):\n",
    "    Ex = 0.0\n",
    "    Ey = 0.0\n",
    "    for q in qr:\n",
    "        if ((x-q[0])**2 + (y-q[1])**2 > radius**2):   # a safety \"dead zone\"\n",
    "            \n",
    "            Ex += 2*k*q[2]*(x-q[0])/((x-q[0])**2 + (y-q[1])**2)\n",
    "            Ey += 2*k*q[2]*(y-q[1])/((x-q[0])**2 + (y-q[1])**2)\n",
    "\n",
    "    return Ex, Ey"
   ]
  },
  {
   "cell_type": "markdown",
   "metadata": {},
   "source": [
    "### Create a function to plot the potential and E for any number of line charges."
   ]
  },
  {
   "cell_type": "code",
   "execution_count": null,
   "metadata": {},
   "outputs": [],
   "source": [
    "def Plots_line(qr, title = \"\", xlim=[-8.0,8.0], ylim=[-8.0,8.0]):                 # Exercise 4 solution\n",
    "    colormap = cm.get_cmap('rainbow')\n",
    "    Varr = np.array([[V_line(ix,iy,qr) for ix in x] for iy in y ])  \n",
    "    #print(np.min(Varr), np.max(Varr))\n",
    "    Earr = np.array([[Efield_line(ix,iy,qr) for ix in x] for iy in y])\n",
    "    print(np.shape(Earr[:,:,0]), np.shape(Earr[:,:,1]))\n",
    "    # specify which contours to plot:\n",
    "    equipot = plt.contourf(X,Y,Varr, levels=np.linspace(0.5*np.min(Varr), 0.5*np.max(Varr), 40), cmap=colormap)\n",
    "    # or have contour levels chosen automatically:\n",
    "    #equipot = plt.contour(X,Y,Varr, 40)   \n",
    "    plt.contour(X,Y,Varr, levels=[0.0], linewidths=3.0)  #overplot V = 0 contour\n",
    "    #overplot line contours\n",
    "    plt.contour(X,Y,Varr, levels=np.linspace(0.5*np.min(Varr), 0.5*np.max(Varr), 40), colors='brown')\n",
    "\n",
    "    plt.streamplot(x,y, Earr[:,:,0], Earr[:,:,1], color=\"black\", density=3)\n",
    "    plt.colorbar(equipot)\n",
    "    plt.xlim(xlim)\n",
    "    plt.ylim(ylim)\n",
    "    plt.xlabel(\"$x$\")\n",
    "    plt.ylabel(\"$y$\")\n",
    "    plt.title(title)"
   ]
  },
  {
   "cell_type": "code",
   "execution_count": null,
   "metadata": {},
   "outputs": [],
   "source": [
    "qr = [(-2,0,-1), (2,0,1)]\n",
    "Plots_line(qr, title=\"Line charge dipole\")                                          # Exercise 4 solution"
   ]
  },
  {
   "cell_type": "markdown",
   "metadata": {},
   "source": [
    "**Discussion 4:** Type your discussion here."
   ]
  },
  {
   "cell_type": "markdown",
   "metadata": {},
   "source": [
    "# 3.  Boundary value problems for Laplace's Equation\n",
    "\n",
    "In a charge-free region, we seek solutions to Laplace's equation, \n",
    "$$ \\nabla^2 V = 0. $$ with prescribed boundary conditions.\n",
    "\n",
    "## 3.1 Cartesian coordinates, no z dependence. \n",
    "\n",
    "We solve Laplace's equation using separation of variables: V(x,y) = X(x)Y(y). The domain is $ 0 \\le y \\le a$ and $0 \\le x < \\infty$.\n",
    "\n",
    "First consider the problem V = 0 at y = 0 and y = a, with V(x =0, y) = $V_o(y)$. The general solution that satisfies the BC at y = 0 and y = a and that vanishes for $x\\rightarrow \\infty$ is\n",
    "$$ V(x,y) = \\sum_{n=1}^\\infty A_n e^{-n\\pi x/a} \\sin\\frac{n\\pi y}{a}, $$\n",
    "with \n",
    "$$V_o(y) = \\sum_{n=1}^\\infty A_n \\sin\\frac{n\\pi y}{a} $$\n",
    "and the coefficients $A_n$ are given by\n",
    "$$ A_n = \\frac{2}{a} \\int_0^a V_0(y) \\sin\\frac{n\\pi y}{a}\\,\\mathrm{d}y. $$ \n",
    "Recall that the functions $\\sin\\frac{n\\pi y}{a}$ are a basis for all square-integrable functions f(y) on [0,a], where f(0) = f(a) = 0, i.e. any f(y) can be expanded in this basis. The basis functions are orthogonal,\n",
    "\n",
    "$$\\int_0^a \\sin\\frac{n\\pi y}{a} \\sin\\frac{m\\pi y}{a}\\,\\mathrm{d}y = \\frac{a}{2}\\delta_{nm}. $$\n",
    "\n",
    "The integral for the $A_n$ will be computed by using quad, a general purpose scipy integrator that uses Gaussian quadrature (https://en.wikipedia.org/wiki/Gaussian_quadrature)."
   ]
  },
  {
   "cell_type": "code",
   "execution_count": null,
   "metadata": {},
   "outputs": [],
   "source": [
    "# Given a boundary condition V0(y), compute the A_n and plot V(x,y)\n",
    "\n",
    "# constants                                       \n",
    "a = 1.0\n",
    "\n",
    "# a \"dummy\" definition of V_0, to be redefined later\n",
    "def V0(y):\n",
    "    return 1.0\n",
    "# integration kernel for the A_n coefficients\n",
    "def AnKernel(y, n):\n",
    "    return V0(y) * np.sin(n*np.pi * y / a)\n",
    "\n",
    "# function to precompute the A_n values\n",
    "#N = 20    # Maximum number of terms to keep\n",
    "def AnCompute(N):\n",
    "    A = np.zeros(N)\n",
    "    for n in range(1, N+1):\n",
    "        A[n-1] = 2.0*scipy.integrate.quad(AnKernel, 0.0, a, args=(n))[0]/a\n",
    "    return A\n",
    "def VCompute(x, y, A):\n",
    "    N = len(A)\n",
    "    Vr = 0.0  # return value\n",
    "    for n in range(1, N+1):\n",
    "        Vr += A[n-1] * np.exp(-n*np.pi*x / a) * np.sin(n*np.pi *y / a)\n",
    "    return Vr\n",
    "\n",
    "def RunAndPlot(A):\n",
    "    colormap = cm.get_cmap('jet')\n",
    "    yarr = np.linspace(0.0, a, 100)\n",
    "    xarr = np.linspace(0.0, 5*a, 100)\n",
    "    X, Y = np.meshgrid(xarr, yarr)\n",
    "    V = VCompute(X, Y, A)\n",
    "    equipot = plt.contourf(X, Y, V, 40, cmap = colormap)\n",
    "    plt.contour(X, Y, V, 40,colors=\"black\")\n",
    "\n",
    "    plt.colorbar(equipot)\n",
    "    plt.xlabel(\"$x$\")\n",
    "    plt.ylabel(\"$y$\")\n",
    "    "
   ]
  },
  {
   "cell_type": "markdown",
   "metadata": {},
   "source": [
    "***Example:*** $ V_0(y) = \\sin\\left(\\frac{2\\pi y}{a}\\right): $"
   ]
  },
  {
   "cell_type": "code",
   "execution_count": null,
   "metadata": {},
   "outputs": [],
   "source": [
    "# define the V_0 function\n",
    "def V0(y):\n",
    "    return 2.*np.sin(2.0*np.pi * y / a)\n",
    "# Compute A_n\n",
    "N = 10\n",
    "A = AnCompute(N)\n",
    "print(\"A = \")\n",
    "print(A)"
   ]
  },
  {
   "cell_type": "markdown",
   "metadata": {},
   "source": [
    "**Note:** The above shows that the only non-zero coefficient is $A_2$ = 2.0 because $V_o(y)$ projects only on to the n=2 basis function."
   ]
  },
  {
   "cell_type": "code",
   "execution_count": null,
   "metadata": {},
   "outputs": [],
   "source": [
    "# Compute V and plot\n",
    "RunAndPlot(A)\n",
    "plt.xlim(0.0, 0.6)\n",
    "plt.title(r\"$V(x,y)$ for $V_0(y) = 2.0\\sin\\left( \\frac{2\\pi y}{a} \\right)$\")"
   ]
  },
  {
   "cell_type": "markdown",
   "metadata": {},
   "source": [
    " <div class=\"alert alert-block alert-warning\">\n",
    "Exercise 5:\n",
    "Compute and plot V(x,y) as above for a multi-scale boundary condition.   Consider the BC: $\\\\$\n",
    "    $V_o(y)=3sin(\\pi y/a)+ 3sin(3\\pi y/a)+6sin(5\\pi y/a). \\\\$  Discuss the result, especially how large and small scales penetrate into the region with increasing x.$\\\\$\n",
    "    "
   ]
  },
  {
   "cell_type": "code",
   "execution_count": null,
   "metadata": {},
   "outputs": [],
   "source": [
    "# define the V_0 function                                                                      #Exercise 5 solution\n",
    "def V0(y):\n",
    "    return 3.0*np.sin(3.0*np.pi * y/a) + 3.0*np.sin(np.pi*y/a) + 6.*np.sin(5.*np.pi*y/a)\n",
    "\n",
    "N = 10\n",
    "A = AnCompute(N)\n",
    "print(A)\n",
    "\n",
    "RunAndPlot(A)\n",
    "plt.xlim(0,0.8)\n",
    "plt.title(r\"$V(x,y)$\")"
   ]
  },
  {
   "cell_type": "markdown",
   "metadata": {},
   "source": [
    "**Discussion 5:** Type your discussion here."
   ]
  },
  {
   "cell_type": "markdown",
   "metadata": {},
   "source": [
    "***Example:*** $ V_0(y) = -y^2 + ay$, a=1.0."
   ]
  },
  {
   "cell_type": "code",
   "execution_count": null,
   "metadata": {},
   "outputs": [],
   "source": [
    "# define the V_0 function\n",
    "def V0(y):\n",
    "    return (-y**2 + a*y)\n",
    "# Precompute the A_n\n",
    "N = 100  # number of terms in the sum\n",
    "A = AnCompute(N)\n",
    "# display...\n",
    "print(A[0:10])\n",
    "# Compute V and plot\n",
    "RunAndPlot(A)\n",
    "plt.xlim(0.0, 1.5)\n",
    "plt.title(\"$V(x,y)$ for $V_0(y) = -y^2 + ay$\")"
   ]
  },
  {
   "cell_type": "markdown",
   "metadata": {},
   "source": [
    "In the plot above, all 100 computed terms were included.  In the plot below, $A_n$ will be plotted vs. $n$, to show that only the first few terms $A_n$ contribute to the sum.  "
   ]
  },
  {
   "cell_type": "code",
   "execution_count": null,
   "metadata": {},
   "outputs": [],
   "source": [
    "plt.plot(range(1, N+1), A)\n",
    "plt.xlim(0,10)\n",
    "plt.title(\"$A_n$ vs. $n$, $V_0(y) = -y^2 + ay$\")\n",
    "plt.xlabel(\"$n$\")\n",
    "plt.ylabel(\"$A_n$\")"
   ]
  },
  {
   "cell_type": "markdown",
   "metadata": {},
   "source": [
    "<div class=\"alert alert-block alert-warning\">\n",
    "Exercise 6: Take $ V_0(y) = - 5(y-0.5)^2 + y(y-a)^3 - 10(y-a)y^4. $ Plot $ V_0(y)$, and compute and plot the solution and E field lines. Plot the coefficients $A_n$ as above and comment on the number of terms required compared to the case above. "
   ]
  },
  {
   "cell_type": "code",
   "execution_count": null,
   "metadata": {},
   "outputs": [],
   "source": [
    "V0 = lambda y : -5*(y-0.5)**2 + y*(y-a)**3 - 10*(y-a)*y**4            #Exercise 6 solution\n",
    "t = np.linspace(0,1,100)\n",
    "plt.plot(t,V0(t))\n",
    "plt.plot(t,np.zeros_like(t),color='black')\n",
    "plt.title('Boundary potential $V_0(y)$')\n",
    "plt.ylabel('$V_0$')\n",
    "plt.xlabel('$y$')\n",
    "plt.grid()\n",
    "plt.show()"
   ]
  },
  {
   "cell_type": "code",
   "execution_count": null,
   "metadata": {},
   "outputs": [],
   "source": [
    "N = 100                                                                 #Exercise 6 solution\n",
    "A = AnCompute(N)\n",
    "#print(A)\n",
    "\n",
    "RunAndPlot(A)\n",
    "plt.xlim(0,1)\n",
    "plt.title(r\"$V(x,y)$\")\n",
    "\n",
    "plt.figure()\n",
    "plt.bar(np.arange(N)+1, A)\n",
    "#plt.plot(np.arange(N)+1, np.zeros(N), color='black')\n",
    "plt.title('Coefficients')\n",
    "plt.xlim(0,100)\n",
    "plt.xlabel('n')\n",
    "plt.ylabel('$A_n$')\n",
    "\n",
    "plt.show()"
   ]
  },
  {
   "cell_type": "markdown",
   "metadata": {},
   "source": [
    "**Discussion 6:** Type your discussion here."
   ]
  },
  {
   "cell_type": "markdown",
   "metadata": {},
   "source": [
    "### 3.2 Separation of Variables - Spherical Coordinates\n",
    "\n",
    "In spherical coordinates, *with azimuthal symmetry*, Laplace's equation has series solutions of the form\n",
    "\n",
    "$$ V(r, \\theta) = \\sum_{\\ell=0}^{\\infty} \\! \\left( A_\\ell r^\\ell + \\frac{B_\\ell}{r^{\\ell+1}} \\right) P_\\ell (\\cos\\theta) $$\n",
    "\n",
    "where $P_{\\ell} (cos\\theta)$ are the Legendre polynomials.\n",
    "\n",
    "#### Graph the first few Legendre polynomials, $\\ell=0$ to $\\ell=5$ ($x \\equiv cos \\theta$)."
   ]
  },
  {
   "cell_type": "code",
   "execution_count": null,
   "metadata": {},
   "outputs": [],
   "source": [
    "import scipy.special as sf     #special functions\n",
    "\n",
    "xarr = np.linspace(-1.0,1.0,100)    #x = cos(theta)\n",
    "#Pn = []\n",
    "for n in range(0, 5+1):\n",
    "    Pn = (sf.eval_legendre(n, xarr))   #get the Legendre polynomials\n",
    "    plt.plot(xarr, Pn, label=r\"$n=${:}\".format(n))\n",
    "\n",
    "plt.xlabel(\"$x$\")\n",
    "plt.ylabel(\"$P_n(x)$\")\n",
    "plt.title(r\"Legendre Polynomials, from $n=0$ to $n=5$\")\n",
    "plt.legend(fontsize=\"xx-large\")\n",
    "plt.ylim(-1.0,1.1)"
   ]
  },
  {
   "cell_type": "markdown",
   "metadata": {},
   "source": [
    "The first two Legendre polynomials are: (x = cos $\\theta$)\n",
    "\n",
    "$$P_o(x) = 1$$\n",
    "$$P_1(x) = x$$\n",
    "\n",
    "and $P_\\ell$ for $\\ell \\ge 2$ can be generated from the recursion relation:\n",
    "\n",
    "$$(\\ell + 1)P_{\\ell+1}(x) = (2\\ell + 1)x P_\\ell (x) - \\ell P_{\\ell-1}(x).$$"
   ]
  },
  {
   "cell_type": "markdown",
   "metadata": {},
   "source": [
    "### 3.3 A Sphere with a prescribed  potential on the surface.\n",
    "The potential on the surface of a sphere of radius $R$ is given by a function $V_0(\\theta)$.  \n",
    "\n",
    "We know a few conditions: \n",
    "\n",
    " - $r<R$: $B_\\ell = 0$ for all $\\ell$. (V is finite at the origin)  \n",
    " - $r>R$: $A_\\ell = 0$ for all $\\ell$.  (V --> 0 as r --> $\\infty$\n",
    " - And the potential is continuous at $r=R$. \n",
    " \n",
    "This means that the solution for $r<R$ is \n",
    "$$ V(r, \\theta) = \\sum_\\ell^\\infty A_\\ell r^\\ell P_\\ell(\\cos\\theta); $$\n",
    "\n",
    "and for $r>R$, \n",
    "$$ V(r, \\theta) = \\sum_\\ell^\\infty \\frac{B_\\ell}{r^{\\ell+1}} P_\\ell(\\cos\\theta);$$\n",
    "\n",
    "continutiy of the potential at $r=R$ implies \n",
    "\n",
    "$$ B_\\ell = A_\\ell R^{2\\ell + 1} $$\n",
    "for all $\\ell$.  \n",
    "\n",
    "At $r=R$, we also know that the potential equals $V_0(\\theta)$.  This allows the coefficients $A_\\ell$ (and, therefore, $B_\\ell$) to be found by projecting onto the orthogonal Legendre polynomial basis functions: \n",
    "\n",
    "$$ A_\\ell = \\frac{2\\ell + 1}{2R^\\ell} \\int_0^\\pi V_0(\\theta) P_\\ell(\\cos\\theta) \\sin\\theta \\, \\mathrm{d}\\theta.$$\n",
    "\n",
    "We can then evaluate this integral in each of the cases below. The potential is azimuthally symmetric, so it's plotted in the y-z plane (x=0). The first example is $V_o(\\theta)=sin\\theta$. The second plot shows the $A_\\ell$. Note that the potential resembles the potential for the 4 point charges found earlier. This is essentially a quadrupole + constant potential.\n"
   ]
  },
  {
   "cell_type": "code",
   "execution_count": null,
   "metadata": {},
   "outputs": [],
   "source": [
    "# Define constants\n",
    "R = 2.0\n",
    "\n",
    "# Predefine a V_0 function\n",
    "def V0(theta):\n",
    "    return 2.0   #"
   ]
  },
  {
   "cell_type": "code",
   "execution_count": null,
   "metadata": {},
   "outputs": [],
   "source": [
    "# Integration kernel for the A_\\ell coefficients\n",
    "def AlKernel(theta, ell):\n",
    "    return V0(theta)*sf.eval_legendre(ell, np.cos(theta))*np.sin(theta)         \n",
    "\n",
    "# Function to compute A_\\ell coefficients\n",
    "def AlCompute(L):            # L = number of terms in the sum\n",
    "    Al = np.zeros(L)\n",
    "    for ell in range(0, L):\n",
    "        res = scipy.integrate.quad(AlKernel, 0.0, np.pi, args=(ell))\n",
    "        Al[ell] = (2.0*ell + 1.0)*res[0]/(2.0*(R**ell))\n",
    "    return Al\n",
    "# Function to compute V(r, \\theta)\n",
    "def VCompute(r, theta, Al):\n",
    "    L = len(Al)\n",
    "    Vr = 0.0  # return value\n",
    "    for ell in range(0, L):\n",
    "        Vl = np.where(r < R, \n",
    "            Al[ell] * (r**ell) * sf.eval_legendre(ell, np.cos(theta)),\n",
    "            Al[ell] * (R**(2*ell+1)) * sf.eval_legendre(ell, np.cos(theta))/(r**(ell+1)))\n",
    "        Vr += Vl\n",
    "    #return k*Vr\n",
    "    return Vr\n",
    "\n",
    "#Plot V(x,y)\n",
    "\n",
    "def RunAndPlot(Al):\n",
    "    NR = 100 \n",
    "    colormap = cm.get_cmap('jet')\n",
    "    rarr = np.linspace(0.001, 5.0*R, NR)\n",
    "    thetaarr = np.linspace(0.0, 2*np.pi, NR)\n",
    "    Rg, Theta = np.meshgrid(rarr, thetaarr)\n",
    "    V = VCompute(Rg, Theta, Al)\n",
    "    Z = Rg * np.cos(Theta)\n",
    "    Y = Rg * np.sin(Theta)\n",
    "    \n",
    "    Vct = plt.contourf(Y, Z, V, 40, cmap=colormap)\n",
    "    plt.plot(R*np.cos(thetaarr),R*np.sin(thetaarr), color='black')\n",
    "    plt.contour(Y, Z, V, 20, colors='black')  #overplot line contours\n",
    "    xx = plt.axes().set_aspect('equal')\n",
    "    plt.colorbar(Vct)\n",
    "    plt.xlabel(\"$y$\")\n",
    "    plt.ylabel(\"$z$\")\n",
    "    plt.xlim(-5.0, 5.0)\n",
    "    plt.ylim(-5.0, 5.0)\n",
    "    \n",
    "    "
   ]
  },
  {
   "cell_type": "code",
   "execution_count": null,
   "metadata": {},
   "outputs": [],
   "source": [
    "NR = 10 \n",
    "rarr = np.linspace(0.001, 5.0*R, NR)\n",
    "thetaarr = np.linspace(0.0, 2*np.pi, NR)\n",
    "Rg, Theta = np.meshgrid(rarr, thetaarr)\n",
    "Z = Rg * np.cos(Theta)\n",
    "Y = Rg * np.sin(Theta)\n",
    "#print(Rg[:,1])"
   ]
  },
  {
   "cell_type": "code",
   "execution_count": null,
   "metadata": {},
   "outputs": [],
   "source": [
    "##### Define V_0, get A_ell, plot \n",
    "def V0(theta):\n",
    "    return np.sin(theta)\n",
    "L = 50\n",
    "Al = AlCompute(L)\n",
    "print(Al[0:10])   \n",
    "RunAndPlot(Al)\n",
    "plt.title(r\"Potential for $V_o(\\theta) = \\sin(theta$)\")\n",
    "\n"
   ]
  },
  {
   "cell_type": "code",
   "execution_count": null,
   "metadata": {},
   "outputs": [],
   "source": [
    "# What terms contribute most to the expansion?\n",
    "\n",
    "plt.bar(np.linspace(0,10,10),Al[0:10])\n",
    "plt.title('Coefficients')\n",
    "plt.show()"
   ]
  },
  {
   "cell_type": "markdown",
   "metadata": {},
   "source": [
    "<div class=\"alert alert-block alert-warning\">\n",
    "Exercise 7: Plot $V(r,\\theta)$ for the boundary conditions: a) $V(r,\\theta) = cos\\theta$, b)$V(r,\\theta) = P_2(cos\\theta)$, c) $V(r,\\theta) = \\theta + 0.5\\theta^2$. Also plot the $A_\\ell$. Comment on the results; in particular what is the electric field inside the sphere for case a)?  "
   ]
  },
  {
   "cell_type": "code",
   "execution_count": null,
   "metadata": {},
   "outputs": [],
   "source": [
    "V0 = lambda theta : np.cos(theta)                                        #Exercise 7a solution\n",
    "L = 50\n",
    "Al = AlCompute(L)\n",
    "print(Al[0:10])   \n",
    "RunAndPlot(Al)\n",
    "plt.title(r\"Potential for $V_o(\\theta) = \\cos(\\theta$)\")\n",
    "plt.figure()\n",
    "plt.bar(np.linspace(0,10,10),Al[0:10])\n",
    "plt.title('Coefficients')\n",
    "plt.show()"
   ]
  },
  {
   "cell_type": "code",
   "execution_count": null,
   "metadata": {},
   "outputs": [],
   "source": [
    "V0 = lambda theta : 0.5*(3*np.cos(theta)**2 - 1)                        #Exercise 7b solution\n",
    "N = 50\n",
    "Al = AlCompute(L)\n",
    "print(Al[0:10])   \n",
    "RunAndPlot(Al)\n",
    "#plt.title(r\"Potential due to sphere\")\n",
    "plt.title(r\"Potential for $V_o(\\theta) = P_2(\\cos\\theta$)\")\n",
    "plt.figure()\n",
    "plt.bar(np.linspace(0,10,10),Al[0:10])\n",
    "plt.title('Coefficients')\n",
    "plt.show()"
   ]
  },
  {
   "cell_type": "code",
   "execution_count": null,
   "metadata": {},
   "outputs": [],
   "source": [
    "V0 = lambda theta : theta + 0.5*theta**2\n",
    "N = 50                                                                   #Exercise 7c solution\n",
    "Al = AlCompute(L)\n",
    "print(Al[0:10])   \n",
    "RunAndPlot(Al)\n",
    "#plt.title(r\"Potential due to sphere\")\n",
    "plt.title(r\"Potential for $V_o(\\theta) = \\theta + 0.5\\theta^2 $\")\n",
    "plt.figure()\n",
    "plt.bar(np.linspace(0,10,10),Al[0:10])\n",
    "plt.title('Coefficients')\n",
    "plt.show()"
   ]
  },
  {
   "cell_type": "markdown",
   "metadata": {},
   "source": [
    "**Discussion 7:** Type your discussion here.\n",
    "\n",
    "\n",
    "\n"
   ]
  },
  {
   "cell_type": "markdown",
   "metadata": {},
   "source": [
    "### 3.4 Expansion of a point charge in Legendre polynomials\n",
    "\n",
    "If a point charge is not at the origin, the equipotentials will not be spherically symmetric about the origin.  The potential of a point charge $q$ on the z-axis at $\\vec{r_o} = r_o\\hat{z}$ can be expanded in Legendre polynomials:\n",
    "\n",
    "$$V_q(r,\\theta) = \\frac{kq}{|\\vec{r} - \\vec{r}_o|} = \\frac{kq}{(r^2+r_o^2 - 2rr_ocos\\theta)^{1/2}}\\qquad(1)$$\n",
    "\n",
    "\n",
    "For $r<r_o$,  \n",
    "$$ V_q(r, \\theta) = kq                                                                                                                        \\sum_{\\ell=0}^\\infty  \\frac{r^\\ell}{r_o^{\\ell + 1}} P_\\ell(\\cos\\theta)\\qquad(2)$$ \n",
    "\n",
    "and for $r>r_o$, \n",
    "$$ V_q(r, \\theta) = kq\\sum_{\\ell=0}^\\infty  \\frac{r_o^\\ell}{r^{\\ell + 1}} P_\\ell(\\cos\\theta). \\qquad  (3)$$\n",
    "\n",
    "Remark: Eqs.(2) and (3) are called the \"generating function\" for the Legendre polynomials. For example, replacing $q\\rightarrow \\ \\rho(r') d\\tau'$,  $r_o\\rightarrow r'$,and integrating over r' we have the solution to Poisson's equation\n",
    "\n",
    "$$\\nabla^2V(r,\\theta)= \\frac{\\rho}{\\epsilon_o}$$\n",
    "\n",
    "If the point charge is outside any spherical surface of radius R ($R < r_o$) centered at the origin, then the potential on the sphere at r=R due to the point charge is\n",
    " \n",
    "$$ V_q(\\theta) = V_q(R, \\theta) = kq \\sum_{\\ell=0}^\\infty  \\frac{R^\\ell}{r_o^{\\ell + 1}} P_\\ell(\\cos\\theta)\\qquad(4)$$ \n",
    "\n",
    "and if the charge is inside the sphere ($R > r_o$) then\n",
    "\n",
    "$$ V_q(\\theta) = V_q(R, \\theta) = kq\\sum_{\\ell=0}^\\infty  \\frac{r_o^\\ell}{R^{\\ell + 1}} P_\\ell(\\cos\\theta)\\qquad(5).$$\n",
    "\n",
    "### 3.5 Potential of a grounded conductor due to a nearby point charge - revisit the image charge solution\n",
    "\n",
    "Eqs (4) and (5) above are the potentials on any surface of radius R centered on the origin due to a point charge, either inside or outside the sphere.  Now if we have a grounded conducting sphere, V=0 on the surface. Let's say we have a positive charge outside the sphere. What happens is that negative charge comes in from ground and the surface acquires a negative charge density arranged to exactly cancel the potential due to the positive point charge outside. It turns out that this surface charge density creates a potential outside the sphere that looks just like a negative point charge inside! We solved this problem before using the Method of images, which seemed to rely on a \"guess\" that really wasn't obvious, but it seemed to do the trick. We can do the same problem in a more systematic way by finding the potential on the sphere due to the exterior charge, then find the potential on the sphere that would be required to produce V=0 on the surface. Then we will see that the induced surface charge density is exactly what a point charge inside the sphere would produce. We can do all of this by expansions in Legendre polynomials.\n",
    "\n",
    "This method is general and can be used to find the potential for any distribution of exterior charges.\n",
    "\n",
    "**Notation** $V = V_{qa} + V_s$, where the total potential V is the sum of the potential due to the induced charge distribution on the sphere ($V_s$) and that due to the point charge q = qa at $r_o = a$. ($V_{qa}$). \n",
    "\n",
    "\n",
    "\n",
    "$$ V_s(r, \\theta) = \\sum_\\ell^\\infty A_\\ell r^{\\ell} P_\\ell(\\cos\\theta).\\ \\  r  \\le R \\qquad(6)$$\n",
    "\n",
    "$$ V_s(r, \\theta) = \\sum_\\ell^\\infty \\frac{B_\\ell}{r^{\\ell+1}} P_\\ell(\\cos\\theta).\\ \\  r \\ge R \\qquad(7)$$\n",
    "\n",
    "The potential is continuous at r=R, so $B_\\ell = A_\\ell R^{2\\ell+1}$.\n",
    "\n",
    "Note that for a conductor, the total potential  $V = 0$ for r $\\le R$.\n",
    "\n",
    "**Restate the problem:** What is the total potential due to a point charge $q_a$ at $\\vec{r_o} = a\\hat{z}$? Where a > R, so the charge is outside a conducting sphere of radius R.\n",
    "\n",
    "a)  First, ignore the fact that the sphere is a conductor for now, and just find the potential on the surface of the sphere due to the point charge qa outside. This potential is eq(4), call it $V_{qa}(R,\\theta)$. \n",
    "\n",
    "b) Next, impose the condition that the sphere is conducting, so V = 0 at r = R. The potential due to the induced charge on the sphere  is found by solving $\\nabla^2V_s = 0$, with $V_o(\\theta) = - V_{qa}(R,\\theta)$. This guarantees that V=0 at r=R.\n",
    "\n",
    "We already have the boundary condition expressed in terms of a Legendre series expansion, so we don't have to project the BC onto the $P_{\\ell}(cos\\theta)$ to find the $A_{\\ell}$ - we already have them from eqs.(4) and (5).\n",
    "\n",
    "c) The total potential for r > R is found by adding: $V(r,\\theta) = V_s(r,\\theta) + V_{qa}(r,\\theta)$. This  of course is the same as the potential found earlier using the method of images,because the solution is unique.  Also note that since V=0 on the surface of the conductor, we know that V=0 for $r \\le R$ (and E=0 inside). \n",
    "\n",
    "d) Again, because we know the solution V_s is unique, we want to show that the Legendre polynomial expansion for the potential $V_s(R,\\theta)$ on the sphere due to the exterior charge qa is the same as the potential due to the image charge qb inside, which is given by eq.(5). We know that the image charge is qb=- qa*R/a at $r_o = b = R^2/a$, so we'll find the potential on the surface due to this image charge. Of course the solution outside the sphere is uniquely determined by the boundary condition at r=R.\n",
    "\n",
    "e) But wait! In part d) we are using the $\\it{known}$ image charge. But what if we don't know that? The final step will be to show that the coefficients in the expansion of the potential due to the exterior charge qa allow us to find the image charge and its location within the sphere. \n",
    "\n",
    "Finally, since E = 0 inside the sphere, we can find the induced surface charge density from $\\sigma(\\theta) = - \\epsilon_o \\frac{\\partial V_{out}}{\\partial r}$ at r=R, where $V = V(r,\\theta)$ for r > R. \n",
    "\n",
    "The default parameters for the charge outside the sphere and image charge are the \n",
    "same as those used for the image problem. "
   ]
  },
  {
   "cell_type": "markdown",
   "metadata": {},
   "source": [
    "<div class=\"alert alert-block alert-warning\">\n",
    "Exercise 8. Develop expressions for the $A_{\\ell}$ for the potential of the sphere due to any exterior \n",
    "charge q at $r_o \\ge R$ directly from the coefficients in eqs. (4) and (5). \n",
    "Show that $A_{\\ell}=kq/r_o^{\\ell+1}$ for a charge q at $r_o > R$, and \n",
    "$A_{\\ell}=kqr_o^{\\ell}/R^{2\\ell+1}$ if $r_o < R$. \n",
    "We will now use these coefficients to compute $V_s(r,\\theta)$."
   ]
  },
  {
   "cell_type": "markdown",
   "metadata": {},
   "source": [
    "###  Find the potential for the sphere due to the point charge q=1 at a=2R, both inside and outside the sphere."
   ]
  },
  {
   "cell_type": "code",
   "execution_count": null,
   "metadata": {},
   "outputs": [],
   "source": [
    "# Can easily find V_s using the coefficients from eq (4) and (5)  \n",
    "qa = 1. #(q)\n",
    "R = 2.\n",
    "a = 2.*R  #position of point charge (r_o)\n",
    "#a=.001\n",
    "L = 100    # number of terms in the sum\n",
    "Al = np.zeros(L)\n",
    "\n",
    "# Use the $A_\\ell$                      #These are the coefficients for V_s(r,theta)\n",
    "for ell in range(0, L):\n",
    "    if a > R:       \n",
    "        Al[ell] = -  k*qa/(a**(ell + 1))     # qa outside sphere \n",
    "    else:\n",
    "        Al[ell] = - k*qa*a**ell/(R**(2*ell + 1))   #qa inside sphere\n",
    "\n",
    "print(Al[0:10])\n",
    "\n",
    "RunAndPlot(Al) \n",
    "plt.plot(0,a,marker='o',color='black') # position of point charge\n",
    "plt.title(r\"  $(2) \\qquad \\qquad V_s(r,\\theta) \\qquad  V_{so}(\\theta) = - V_{qa}(R,\\theta)$\")  "
   ]
  },
  {
   "cell_type": "markdown",
   "metadata": {},
   "source": [
    "<div class=\"alert alert-block alert-warning\">\n",
    "Exercise 9. We took L=100 terms in the expansion. Do we really need that many? Plot the coefficients Al and comment on the result. "
   ]
  },
  {
   "cell_type": "markdown",
   "metadata": {},
   "source": [
    "**Discussion 9:** Type your discussion here."
   ]
  },
  {
   "cell_type": "code",
   "execution_count": null,
   "metadata": {},
   "outputs": [],
   "source": [
    "plt.bar(np.linspace(0,100,100),Al[0:100])               #Exercise 9 solution\n",
    "plt.title('Coefficients')\n",
    "plt.show()"
   ]
  },
  {
   "cell_type": "markdown",
   "metadata": {},
   "source": [
    "<div class=\"alert alert-block alert-warning\">\n",
    "Exercise 10.  Edit the script to compute and plot the potential $V_s(r,\\theta)$ due to the interior image charge qb=-qa(R/a) at b=$R^2/a$ and comment on the result. "
   ]
  },
  {
   "cell_type": "code",
   "execution_count": null,
   "metadata": {},
   "outputs": [],
   "source": [
    "q = 1.                                                          #Exercise 10 solution\n",
    "R = 2.\n",
    "qa=1\n",
    "a = 2.*R \n",
    "b = R**2/a    # position of image charge\n",
    "qb = - qa*R/a   #charge of image charge\n",
    "#a=.001\n",
    "L = 20    # number of terms in the sum         # reducing # of terms...not really necessary\n",
    "Alimg = np.zeros(L)\n",
    "\n",
    "# Use the $A_\\ell$                      #These are the coefficients for V_s(r,theta)\n",
    "for ell in range(0, L):\n",
    "    if  b > R:       \n",
    "        Alimg[ell] =   k*qb/(b**(ell + 1))     # if qb outside sphere \n",
    "    else:\n",
    "        Alimg[ell] =  k*qb*b**ell/(R**(2*ell + 1))   # if qb inside sphere\n",
    "\n",
    "print(Alimg[0:10])\n",
    "\n",
    "RunAndPlot(Alimg) \n",
    "plt.plot(0,b,marker='o',color='white')            # plot position of image charge\n",
    "plt.title(r\"(3)     $ V_s(r,\\theta),  V_{o}(\\theta) =  V_{qb}(R,\\theta)$\")"
   ]
  },
  {
   "cell_type": "markdown",
   "metadata": {},
   "source": [
    "**Discussion 10:** Type your discussion here."
   ]
  },
  {
   "cell_type": "markdown",
   "metadata": {},
   "source": [
    "<div class=\"alert alert-block alert-warning\">\n",
    "Exercise 11. Plot the $A_\\ell$ for $ V_s(r,\\theta)$, with  $V_{o}(\\theta) =  V_{qb}(R,\\theta)$ and $ V_s(r,\\theta)$, with $V_{o}(\\theta) =  V_{qa}(R,\\theta)$."
   ]
  },
  {
   "cell_type": "code",
   "execution_count": null,
   "metadata": {},
   "outputs": [],
   "source": [
    "plt.bar(np.linspace(0,20,20),-Al[0:20])     #Exercise 11 solution\n",
    "plt.bar(np.linspace(0,20,20),Alimg[0:20])\n",
    "plt.title('Coefficients')\n",
    "plt.show()"
   ]
  },
  {
   "cell_type": "markdown",
   "metadata": {},
   "source": [
    "**Discussion 11:** Type your discussion here."
   ]
  },
  {
   "cell_type": "markdown",
   "metadata": {},
   "source": [
    "<div class=\"alert alert-block alert-warning\">\n",
    "Exercise 12: \n",
    "\n",
    "    Make sure you include enough terms in the expansion. Vary L and see what happens\n",
    "\n",
    "- a) Plot the potential $V_s$ for a = R/2. (point charge inside the sphere).\n",
    "\n",
    "- b) Plot $V_s$ for a close to the origin (maybe a=0.01 or less). \n",
    "- c) Repeat b), but leave out the L=0 term. This should show mainly the dipole contribution. \n",
    "- d) Find the induced surface charge density $\\sigma(\\theta)$ from the exterior charge qa and plot it."
   ]
  },
  {
   "cell_type": "code",
   "execution_count": null,
   "metadata": {},
   "outputs": [],
   "source": [
    "q = 1.                                                           #Exercise 12a solution\n",
    "R = 22\n",
    "a = R/2.  #position of point charge\n",
    "\n",
    "qa = 1.\n",
    "\n",
    "                                     \n",
    "\n",
    "L = 20    # number of terms in the sum\n",
    "Al = np.zeros(L)\n",
    "\n",
    "for ell in range(0, L):\n",
    "    if a > R:\n",
    "        #Al[0] =  k*qa/a\n",
    "        Al[ell] = k*qa/(a**(ell + 1))\n",
    "    else:\n",
    "        #Al[0] =  k*qa/R\n",
    "        Al[ell] =  k*q*a**ell/(R**(2*ell+1))\n",
    "        \n",
    "print(Al[0:10])\n",
    "\n",
    "# Compute V(r, \\theta) and plot\n",
    "RunAndPlot(Al)\n",
    "plt.plot(0,a,marker='o',color='black') # position of point charge\n",
    "plt.title(r\"Point charge at $\\vec{r_o} = a \\hat{z}$\"+'  a = '+str(a))"
   ]
  },
  {
   "cell_type": "code",
   "execution_count": null,
   "metadata": {},
   "outputs": [],
   "source": [
    "R=2\n",
    "a = 0.01  #position of point charge                          #Exercise 12b solution\n",
    "qa=1\n",
    "L = 50    # number of terms in the sum\n",
    "Al = np.zeros(L)\n",
    "\n",
    "for ell in range(0, L):\n",
    "    if a > R:\n",
    "        #Al[0] =  k*qa/a\n",
    "        Al[ell] = k*qa/(a**(ell + 1))\n",
    "    else:\n",
    "        #Al[0] =  k*qa/R\n",
    "        Al[ell] =  k*qa*(a**ell)/(R**(2*ell+1))\n",
    "        \n",
    "print(Al[0:10])\n",
    "\n",
    "# Compute V(r, \\theta) and plot\n",
    "RunAndPlot(Al)\n",
    "plt.plot(0,a,marker='o',color='black') # position of point charge\n",
    "plt.title(r\"Point charge at $\\vec{r_o} = a \\hat{z}$\"+'  a = '+str(a))"
   ]
  },
  {
   "cell_type": "code",
   "execution_count": null,
   "metadata": {},
   "outputs": [],
   "source": [
    "R=2\n",
    "a = 0.01  #position of point charge                          #Exercise 12c solution\n",
    "qa=1\n",
    "L = 50    # number of terms in the sum\n",
    "Al = np.zeros(L)\n",
    "\n",
    "for ell in range(1, L):\n",
    "    if a > R:\n",
    "        #Al[0] =  k*qa/a\n",
    "        Al[ell] = k*qa/(a**(ell + 1))\n",
    "    else:\n",
    "        #Al[0] =  k*qa/R\n",
    "        Al[ell] =  k*qa*(a**ell)/(R**(2*ell+1))\n",
    "        \n",
    "print(Al[0:10])\n",
    "\n",
    "# Compute V(r, \\theta) and plot\n",
    "RunAndPlot(Al)\n",
    "plt.plot(0,a,marker='o',color='black') # position of point charge\n",
    "plt.title(r\"Point charge at $\\vec{r_o} = a \\hat{z}$\"+'  a = '+str(a))"
   ]
  },
  {
   "cell_type": "markdown",
   "metadata": {},
   "source": [
    "##### Let's reconstruct the full solution. Use the Legendre polynomial expansions to find $V(r,\\theta)= V_s + V_{qa}$. \n",
    "\n",
    "DJ : Can you do 12c,d? I don't have time to do it. Shouldn't be that hard. "
   ]
  },
  {
   "cell_type": "markdown",
   "metadata": {},
   "source": [
    "**Discussion 12:** Type your discussion here."
   ]
  },
  {
   "cell_type": "markdown",
   "metadata": {},
   "source": [
    "<div class=\"alert alert-block alert-warning\">\n",
    "Exercise 13: Find the image charge and its location inside the sphere. Start with the Legendre series expansion\n",
    "for $V_s(r,\\theta)$ for $r\\ge R$ (eq 7) and compare it to the potential of a point charge inside the sphere \n",
    "(eq 3). From this, you can find the image charge q=qb and and its location $r_o=b$. \n",
    "See the discussion in section 2 for the point charge outside a conducting sphere. \n",
    "    "
   ]
  },
  {
   "cell_type": "markdown",
   "metadata": {},
   "source": [
    "**Discussion 13:** Type your discussion here."
   ]
  },
  {
   "cell_type": "markdown",
   "metadata": {},
   "source": [
    "### A way to plot a function of $\\theta$ and $\\phi$ on the sphere.\n",
    "Plot spherical harmonics. **DJ: This needs some work, but I think I'll stop here. **"
   ]
  },
  {
   "cell_type": "code",
   "execution_count": null,
   "metadata": {},
   "outputs": [],
   "source": [
    "import matplotlib.pyplot as plt\n",
    "from matplotlib import cm, colors     # a different way to get color tables\n",
    "from mpl_toolkits.mplot3d import Axes3D\n",
    "import scipy.special as sf     #special functions\n",
    "\n",
    "\n",
    "# Plot a function of theta on the sphere\n",
    "NR = 100\n",
    "theta = np.linspace(0.0, 2*np.pi, NR)\n",
    "phi = np.linspace(0, np.pi, 100)\n",
    "phi, theta = np.meshgrid(phi, theta)\n",
    "# can give some function of theta, e.g.\n",
    "sigma = np.cos(theta)\n",
    "sigplot = np.outer(np.ones(NR),sigma)  #make 2D array\n",
    "\n",
    "# The Cartesian coordinates of the unit sphere\n",
    "x = np.sin(phi) * np.cos(theta)\n",
    "y = np.sin(phi) * np.sin(theta)\n",
    "z = np.cos(phi)\n",
    "\n",
    "#Calculate the spherical harmonic Y(l,m) and normalize to [0,1]\n",
    "\n",
    "m, l = 0, 1    # for m = 0, Y(l,m) are basically the Legendre polynomials Pl(cos theta)\n",
    "fcolors = sf.sph_harm(m, l, theta, phi).real\n",
    "#fcolors = sigplot \n",
    "fmax, fmin = fcolors.max(), fcolors.min()\n",
    "fcolors = (fcolors - fmin)/(fmax - fmin)\n",
    "\n",
    "# Set the aspect ratio to 1 so the sphere looks spherical    -  except it doesn't!\n",
    "fig = plt.figure(figsize=plt.figaspect(1.))\n",
    "ax = fig.add_subplot(111, projection='3d')\n",
    "ax.plot_surface(x, y, z,  rstride=1, cstride=1, facecolors=cm.jet(fcolors))\n",
    "# Turn off the axis planes\n",
    "ax.set_axis_off()\n",
    "plt.show()\n"
   ]
  }
 ],
 "metadata": {
  "kernelspec": {
   "display_name": "Python 3 (ipykernel)",
   "language": "python",
   "name": "python3"
  },
  "language_info": {
   "codemirror_mode": {
    "name": "ipython",
    "version": 3
   },
   "file_extension": ".py",
   "mimetype": "text/x-python",
   "name": "python",
   "nbconvert_exporter": "python",
   "pygments_lexer": "ipython3",
   "version": "3.8.8"
  }
 },
 "nbformat": 4,
 "nbformat_minor": 4
}
