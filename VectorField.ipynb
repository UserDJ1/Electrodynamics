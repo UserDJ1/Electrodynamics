{
 "cells": [
  {
   "cell_type": "code",
   "execution_count": null,
   "id": "4fe37d11-f215-4cd9-b909-b59680f1b291",
   "metadata": {},
   "outputs": [],
   "source": [
    "#make vector field plotting program here"
   ]
  }
 ],
 "metadata": {
  "kernelspec": {
   "display_name": "Python 3 (ipykernel)",
   "language": "python",
   "name": "python3"
  },
  "language_info": {
   "codemirror_mode": {
    "name": "ipython",
    "version": 3
   },
   "file_extension": ".py",
   "mimetype": "text/x-python",
   "name": "python",
   "nbconvert_exporter": "python",
   "pygments_lexer": "ipython3",
   "version": "3.8.8"
  }
 },
 "nbformat": 4,
 "nbformat_minor": 5
}
